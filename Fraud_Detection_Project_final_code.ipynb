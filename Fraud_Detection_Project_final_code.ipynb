{
 "cells": [
  {
   "cell_type": "code",
   "execution_count": 1,
   "id": "b2e32a27",
   "metadata": {},
   "outputs": [],
   "source": [
    "# Load the packages needed for this part\n",
    "# create spark and sparkcontext objects\n",
    "from pyspark.sql import SparkSession\n",
    "import numpy as np\n",
    "\n",
    "#spark = SparkSession.builder.config('','4g').getOrCreate()\n",
    "spark = SparkSession.builder.config('spark.driver.memory','4g').getOrCreate()\n",
    "\n",
    "sc = spark.sparkContext\n",
    "\n",
    "import pyspark\n",
    "from pyspark.ml import feature, regression, Pipeline\n",
    "from pyspark.sql import functions as func, Row\n",
    "from pyspark import sql\n",
    "\n",
    "from pyspark.sql.functions import *\n",
    "from pyspark.sql.types import IntegerType, DoubleType, FloatType\n",
    "\n",
    "import matplotlib.pyplot as plt\n",
    "import pandas as pd\n",
    "import seaborn as sns"
   ]
  },
  {
   "cell_type": "code",
   "execution_count": 2,
   "id": "8e74b301",
   "metadata": {},
   "outputs": [],
   "source": [
    "train_df = spark.read.csv('fraudTrain.csv', header=True, inferSchema=True)\n",
    "test_df = spark.read.csv('fraudTest.csv', header=True, inferSchema=True)"
   ]
  },
  {
   "cell_type": "code",
   "execution_count": 3,
   "id": "f5cac2f8",
   "metadata": {},
   "outputs": [
    {
     "name": "stdout",
     "output_type": "stream",
     "text": [
      "root\n",
      " |-- _c0: integer (nullable = true)\n",
      " |-- trans_date_trans_time: string (nullable = true)\n",
      " |-- cc_num: long (nullable = true)\n",
      " |-- merchant: string (nullable = true)\n",
      " |-- category: string (nullable = true)\n",
      " |-- amt: double (nullable = true)\n",
      " |-- first: string (nullable = true)\n",
      " |-- last: string (nullable = true)\n",
      " |-- gender: string (nullable = true)\n",
      " |-- street: string (nullable = true)\n",
      " |-- city: string (nullable = true)\n",
      " |-- state: string (nullable = true)\n",
      " |-- zip: integer (nullable = true)\n",
      " |-- lat: double (nullable = true)\n",
      " |-- long: double (nullable = true)\n",
      " |-- city_pop: integer (nullable = true)\n",
      " |-- job: string (nullable = true)\n",
      " |-- dob: string (nullable = true)\n",
      " |-- trans_num: string (nullable = true)\n",
      " |-- unix_time: integer (nullable = true)\n",
      " |-- merch_lat: double (nullable = true)\n",
      " |-- merch_long: double (nullable = true)\n",
      " |-- is_fraud: integer (nullable = true)\n",
      "\n"
     ]
    }
   ],
   "source": [
    "train_df.printSchema()"
   ]
  },
  {
   "cell_type": "code",
   "execution_count": 4,
   "id": "7bb3b88e",
   "metadata": {},
   "outputs": [
    {
     "name": "stdout",
     "output_type": "stream",
     "text": [
      "Dimension of the Dataframe is: (1852394, 23)\n"
     ]
    }
   ],
   "source": [
    "# Combine train and test data and use cross validation later \n",
    "combined_df = train_df.union(test_df)\n",
    "row = combined_df.count()\n",
    "col = len(combined_df.columns)\n",
    "print(f'Dimension of the Dataframe is: {(row,col)}')"
   ]
  },
  {
   "cell_type": "code",
   "execution_count": 5,
   "id": "0a154245",
   "metadata": {},
   "outputs": [],
   "source": [
    "# generating column age, day_of_week, hour_of_transaction\n",
    "\n",
    "from pyspark.sql.functions import *\n",
    "from pyspark.sql.types import IntegerType, DoubleType\n",
    "\n",
    "\n",
    "# Function to calculate the distance between two adress\n",
    "def haversine(lon1, lat1, lon2, lat2):\n",
    "    lon1, lat1, lon2, lat2 = map(np.radians, [lon1, lat1, lon2, lat2])\n",
    "    newlon = lon2 - lon1\n",
    "    newlat = lat2 - lat1\n",
    "    haver_formula = (\n",
    "        np.sin(newlat / 2.0) ** 2\n",
    "        + np.cos(lat1) * np.cos(lat2) * np.sin(newlon / 2.0) ** 2\n",
    "    )\n",
    "    dist = 2 * np.arcsin(np.sqrt(haver_formula))\n",
    "    miles = 3958 * dist\n",
    "    return float(miles)\n",
    "    \n",
    "# create a udf for implementing python function in pyspark\n",
    "udf_haversine = udf(haversine, DoubleType())\n",
    "\n",
    "def create_column(data):\n",
    "    \n",
    "    # day of week and the transaction hour\n",
    "    data = data.withColumn('day_of_week', date_format('trans_date_trans_time', 'EEEE')) #1st col added\n",
    "    data = data.withColumn('hour_of_transaction', hour('trans_date_trans_time')) #2nd col added\n",
    "    \n",
    "    #month_year\n",
    "    data = data.withColumn('year', year('trans_date_trans_time'))\n",
    "    data = data.withColumn('month', month('trans_date_trans_time'))\n",
    "    data = data.withColumn('month_year', concat_ws('-', data.year ,data.month)).drop(*['year', 'month']) #3rd col added\n",
    "    \n",
    "    # trans_date\n",
    "    data = data.withColumn(\"trans_date\", func.to_date(func.col(\"trans_date_trans_time\")))\n",
    "    \n",
    "    #age\n",
    "    #data = data.withColumn(\"age\",round(months_between(current_date(),col(\"dob\"))/lit(12),2))\n",
    "    data = data.withColumn(\"age\",round(months_between(col('trans_date'),col(\"dob\"))/lit(12),2))\n",
    "    data = data.withColumn(\"age\", data[\"age\"].cast(IntegerType()))\n",
    "    \n",
    "    # distance between merchant and client\n",
    "    # data = data.withColumn(\"distance\", udf_haversine(\"long\", \"lat\", \"merch_long\",\"merch_lat\"))\n",
    "    \n",
    "    return data\n",
    "    \n",
    "combined_df = create_column(combined_df)\n",
    "train_df = create_column(train_df)\n",
    "test_df = create_column(test_df)"
   ]
  },
  {
   "cell_type": "code",
   "execution_count": 6,
   "id": "0ac416fc",
   "metadata": {},
   "outputs": [],
   "source": [
    "# finding distance between merchant and customer\n",
    "\n",
    "udf_haversine = udf(haversine, DoubleType())\n",
    "combined_df = combined_df.withColumn(\"distance\", udf_haversine(\"long\", \"lat\", \"merch_long\",\"merch_lat\"))"
   ]
  },
  {
   "cell_type": "code",
   "execution_count": 7,
   "id": "5630ba35",
   "metadata": {},
   "outputs": [
    {
     "name": "stdout",
     "output_type": "stream",
     "text": [
      "root\n",
      " |-- _c0: integer (nullable = true)\n",
      " |-- trans_date_trans_time: string (nullable = true)\n",
      " |-- cc_num: long (nullable = true)\n",
      " |-- merchant: string (nullable = true)\n",
      " |-- category: string (nullable = true)\n",
      " |-- amt: double (nullable = true)\n",
      " |-- first: string (nullable = true)\n",
      " |-- last: string (nullable = true)\n",
      " |-- gender: string (nullable = true)\n",
      " |-- street: string (nullable = true)\n",
      " |-- city: string (nullable = true)\n",
      " |-- state: string (nullable = true)\n",
      " |-- zip: integer (nullable = true)\n",
      " |-- lat: double (nullable = true)\n",
      " |-- long: double (nullable = true)\n",
      " |-- city_pop: integer (nullable = true)\n",
      " |-- job: string (nullable = true)\n",
      " |-- dob: string (nullable = true)\n",
      " |-- trans_num: string (nullable = true)\n",
      " |-- unix_time: integer (nullable = true)\n",
      " |-- merch_lat: double (nullable = true)\n",
      " |-- merch_long: double (nullable = true)\n",
      " |-- is_fraud: integer (nullable = true)\n",
      " |-- day_of_week: string (nullable = true)\n",
      " |-- hour_of_transaction: integer (nullable = true)\n",
      " |-- month_year: string (nullable = false)\n",
      " |-- trans_date: date (nullable = true)\n",
      " |-- age: integer (nullable = true)\n",
      " |-- distance: double (nullable = true)\n",
      "\n"
     ]
    }
   ],
   "source": [
    "combined_df.printSchema()"
   ]
  },
  {
   "cell_type": "code",
   "execution_count": 8,
   "id": "8b044ece",
   "metadata": {},
   "outputs": [
    {
     "name": "stdout",
     "output_type": "stream",
     "text": [
      "+----------------+\n",
      "|CreditCard_Count|\n",
      "+----------------+\n",
      "|             999|\n",
      "+----------------+\n",
      "\n"
     ]
    }
   ],
   "source": [
    "# count unique credit cards\n",
    "from pyspark.sql.functions import countDistinct\n",
    "combined_df.select(countDistinct('cc_num').alias('CreditCard_Count')).show()"
   ]
  },
  {
   "cell_type": "markdown",
   "id": "36bdf4a6",
   "metadata": {
    "slideshow": {
     "slide_type": "slide"
    }
   },
   "source": [
    "We have data of 999 credit cards. Credit card fraud detection is based on analysis of a card’s spending behaviour.\n",
    "It is important to know the past transaction history of a credit card. Thus, we need to use feature engineering to create columns that can study a card's frequency of transaction in past 1 day, 1 week, 1 month and 3 months. "
   ]
  },
  {
   "cell_type": "code",
   "execution_count": 9,
   "id": "36227e6c",
   "metadata": {},
   "outputs": [],
   "source": [
    "# Adding dervided columns to understand the credit card usage behaviour Dayly, Monthly and weekly.\n",
    "combined_df.createOrReplaceTempView(\"combined_df\")\n",
    "\n",
    "new_df = \\\n",
    "    spark.sql(\n",
    "    \"\"\"SELECT *, mean(amt) OVER (\n",
    "        PARTITION BY cc_num\n",
    "        ORDER BY CAST(trans_date AS timestamp) \n",
    "        RANGE BETWEEN INTERVAL 0 DAYS PRECEDING AND CURRENT ROW\n",
    "     ) AS rolling_24h_avg_amt, \n",
    "     \n",
    "     mean(amt) OVER (\n",
    "        PARTITION BY cc_num\n",
    "        ORDER BY CAST(trans_date AS timestamp) \n",
    "        RANGE BETWEEN INTERVAL 6 DAYS PRECEDING AND CURRENT ROW\n",
    "     ) AS rolling_1_week_avg_amt,\n",
    "     \n",
    "     mean(amt) OVER (\n",
    "        PARTITION BY cc_num\n",
    "        ORDER BY CAST(trans_date AS timestamp) \n",
    "        RANGE BETWEEN INTERVAL 29 DAYS PRECEDING AND CURRENT ROW\n",
    "     ) AS rolling_1month_avg_amt,\n",
    "     \n",
    "     count(_c0) OVER (\n",
    "    PARTITION BY cc_num, trans_date\n",
    "    ) AS number_trans_24h,\n",
    "    \n",
    "    count(_c0) OVER (\n",
    "    PARTITION BY cc_num, day_of_week\n",
    "    ) AS number_trans_specific_day,\n",
    "    \n",
    "    count(_c0) OVER (\n",
    "    PARTITION BY cc_num, month_year\n",
    "    ) AS number_trans_month,\n",
    "    \n",
    "    sum(amt) OVER (\n",
    "        PARTITION BY cc_num\n",
    "        ORDER BY CAST(trans_date AS timestamp) \n",
    "        RANGE BETWEEN INTERVAL 89 DAYS PRECEDING AND CURRENT ROW\n",
    "     ) AS total_3month_amt\n",
    "     \n",
    "     FROM combined_df\"\"\")\n",
    "\n",
    "new_df = new_df.withColumn('weekly_avg_amt_over_3_months',(col('total_3month_amt')/ (1.0*12)))\n",
    "new_df = new_df.drop(*['total_3month_amt'])"
   ]
  },
  {
   "cell_type": "markdown",
   "id": "c5e1a92f",
   "metadata": {},
   "source": [
    "### Creating Visualizations"
   ]
  },
  {
   "cell_type": "code",
   "execution_count": 10,
   "id": "2c1f5239",
   "metadata": {},
   "outputs": [
    {
     "data": {
      "image/png": "[encoded data removed]",
      "text/plain": [
       "<Figure size 1440x576 with 2 Axes>"
      ]
     },
     "metadata": {
      "needs_background": "light"
     },
     "output_type": "display_data"
    }
   ],
   "source": [
    "plt.figure(figsize=(20,8))\n",
    "plt.subplot(1,2,1)\n",
    "new_df.select('category').toPandas().value_counts().plot.bar();\n",
    "plt.subplot(1,2,2)\n",
    "new_df.select('day_of_week').toPandas().value_counts().plot.bar();"
   ]
  },
  {
   "cell_type": "markdown",
   "id": "ce69b782",
   "metadata": {},
   "source": [
    "As we can see in the above visualizations the no. of transactions happening at gas_transport category are more and for travel category are less.\n",
    "\n",
    "Also, from the second graph we can visualize that more number of transactions happen on Monday and less on Wednesday."
   ]
  },
  {
   "cell_type": "code",
   "execution_count": 11,
   "id": "72ef4783",
   "metadata": {},
   "outputs": [
    {
     "data": {
      "image/png": "[encoded data removed]",
      "text/plain": [
       "<Figure size 1440x576 with 2 Axes>"
      ]
     },
     "metadata": {
      "needs_background": "light"
     },
     "output_type": "display_data"
    }
   ],
   "source": [
    "plt.figure(figsize=(20,8))\n",
    "plt.subplot(1,2,1)\n",
    "new_df.select('gender').toPandas().value_counts().plot.bar();\n",
    "plt.subplot(1,2,2)\n",
    "new_df.select('month_year').toPandas().value_counts().plot.bar();"
   ]
  },
  {
   "cell_type": "code",
   "execution_count": 12,
   "id": "05727af8",
   "metadata": {},
   "outputs": [],
   "source": [
    "# changing the transdate_trans_time and dob to timestamp\n",
    "\n",
    "new_df = new_df.withColumn('trans_date_trans_time_new', to_timestamp('trans_date_trans_time'))\n",
    "new_df = new_df.drop('trans_date_trans_time')\n",
    "new_df = new_df.withColumnRenamed('trans_date_trans_time_new','trans_date_trans_time')"
   ]
  },
  {
   "cell_type": "code",
   "execution_count": 13,
   "id": "8d86c7c8",
   "metadata": {},
   "outputs": [],
   "source": [
    "new_df = new_df.withColumn('dob_new', to_date('dob'))\n",
    "new_df = new_df.drop('dob')\n",
    "new_df = new_df.withColumnRenamed('dob_new','dob')"
   ]
  },
  {
   "cell_type": "code",
   "execution_count": 14,
   "id": "46e9784d",
   "metadata": {},
   "outputs": [
    {
     "name": "stdout",
     "output_type": "stream",
     "text": [
      "root\n",
      " |-- _c0: integer (nullable = true)\n",
      " |-- cc_num: long (nullable = true)\n",
      " |-- merchant: string (nullable = true)\n",
      " |-- category: string (nullable = true)\n",
      " |-- amt: double (nullable = true)\n",
      " |-- first: string (nullable = true)\n",
      " |-- last: string (nullable = true)\n",
      " |-- gender: string (nullable = true)\n",
      " |-- street: string (nullable = true)\n",
      " |-- city: string (nullable = true)\n",
      " |-- state: string (nullable = true)\n",
      " |-- zip: integer (nullable = true)\n",
      " |-- lat: double (nullable = true)\n",
      " |-- long: double (nullable = true)\n",
      " |-- city_pop: integer (nullable = true)\n",
      " |-- job: string (nullable = true)\n",
      " |-- trans_num: string (nullable = true)\n",
      " |-- unix_time: integer (nullable = true)\n",
      " |-- merch_lat: double (nullable = true)\n",
      " |-- merch_long: double (nullable = true)\n",
      " |-- is_fraud: integer (nullable = true)\n",
      " |-- day_of_week: string (nullable = true)\n",
      " |-- hour_of_transaction: integer (nullable = true)\n",
      " |-- month_year: string (nullable = false)\n",
      " |-- trans_date: date (nullable = true)\n",
      " |-- age: integer (nullable = true)\n",
      " |-- distance: double (nullable = true)\n",
      " |-- rolling_24h_avg_amt: double (nullable = true)\n",
      " |-- rolling_1_week_avg_amt: double (nullable = true)\n",
      " |-- rolling_1month_avg_amt: double (nullable = true)\n",
      " |-- number_trans_24h: long (nullable = false)\n",
      " |-- number_trans_specific_day: long (nullable = false)\n",
      " |-- number_trans_month: long (nullable = false)\n",
      " |-- weekly_avg_amt_over_3_months: double (nullable = true)\n",
      " |-- trans_date_trans_time: timestamp (nullable = true)\n",
      " |-- dob: date (nullable = true)\n",
      "\n"
     ]
    }
   ],
   "source": [
    "new_df.printSchema()"
   ]
  },
  {
   "cell_type": "code",
   "execution_count": 15,
   "id": "73a357d2",
   "metadata": {
    "scrolled": true
   },
   "outputs": [
    {
     "data": {
      "text/html": [
       "<div>\n",
       "<style scoped>\n",
       "    .dataframe tbody tr th:only-of-type {\n",
       "        vertical-align: middle;\n",
       "    }\n",
       "\n",
       "    .dataframe tbody tr th {\n",
       "        vertical-align: top;\n",
       "    }\n",
       "\n",
       "    .dataframe thead th {\n",
       "        text-align: right;\n",
       "    }\n",
       "</style>\n",
       "<table border=\"1\" class=\"dataframe\">\n",
       "  <thead>\n",
       "    <tr style=\"text-align: right;\">\n",
       "      <th></th>\n",
       "      <th>age</th>\n",
       "    </tr>\n",
       "  </thead>\n",
       "  <tbody>\n",
       "    <tr>\n",
       "      <th>count</th>\n",
       "      <td>1852394.0</td>\n",
       "    </tr>\n",
       "    <tr>\n",
       "      <th>mean</th>\n",
       "      <td>46.0</td>\n",
       "    </tr>\n",
       "    <tr>\n",
       "      <th>std</th>\n",
       "      <td>17.0</td>\n",
       "    </tr>\n",
       "    <tr>\n",
       "      <th>min</th>\n",
       "      <td>13.0</td>\n",
       "    </tr>\n",
       "    <tr>\n",
       "      <th>25%</th>\n",
       "      <td>32.0</td>\n",
       "    </tr>\n",
       "    <tr>\n",
       "      <th>50%</th>\n",
       "      <td>44.0</td>\n",
       "    </tr>\n",
       "    <tr>\n",
       "      <th>75%</th>\n",
       "      <td>57.0</td>\n",
       "    </tr>\n",
       "    <tr>\n",
       "      <th>max</th>\n",
       "      <td>96.0</td>\n",
       "    </tr>\n",
       "  </tbody>\n",
       "</table>\n",
       "</div>"
      ],
      "text/plain": [
       "             age\n",
       "count  1852394.0\n",
       "mean        46.0\n",
       "std         17.0\n",
       "min         13.0\n",
       "25%         32.0\n",
       "50%         44.0\n",
       "75%         57.0\n",
       "max         96.0"
      ]
     },
     "execution_count": 15,
     "metadata": {},
     "output_type": "execute_result"
    }
   ],
   "source": [
    "np.round(new_df.select('age').toPandas().describe())"
   ]
  },
  {
   "cell_type": "code",
   "execution_count": 16,
   "id": "0a300171",
   "metadata": {},
   "outputs": [
    {
     "name": "stdout",
     "output_type": "stream",
     "text": [
      "+-------+------------------+\n",
      "|summary|               age|\n",
      "+-------+------------------+\n",
      "|  count|           1852394|\n",
      "|   mean|45.767610994205334|\n",
      "| stddev| 17.41244464440168|\n",
      "|    min|                13|\n",
      "|    max|                96|\n",
      "+-------+------------------+\n",
      "\n"
     ]
    }
   ],
   "source": [
    "new_df.select('age').describe().show()"
   ]
  },
  {
   "cell_type": "markdown",
   "id": "a0543df1",
   "metadata": {},
   "source": [
    "33-57 age people are 50% of our customers\n",
    "\n",
    "Minimum age of customer is 14\n",
    "\n",
    "Maximum age of customer is 96\n",
    "\n",
    "Modifying the age variable with Categorical distinctions as follows:"
   ]
  },
  {
   "cell_type": "code",
   "execution_count": 17,
   "id": "af8a652d",
   "metadata": {},
   "outputs": [],
   "source": [
    "def udf_age_category(age):\n",
    "    if (age < 25):\n",
    "        return 'Age Under 25'\n",
    "    elif (age >= 25 and age < 40):\n",
    "        return 'Age Between 25 & 40'\n",
    "    elif (age >= 40 and age < 50):\n",
    "        return 'Age Between 40 & 50'\n",
    "    elif (age >=50 and age < 65):\n",
    "        return 'Age between 50 & 65'\n",
    "    elif (age >=65):\n",
    "        return 'Age Over 65'\n",
    "    else: return 'N/A'\n",
    "\n",
    "age_udf = udf(udf_age_category)\n",
    "\n",
    "new_df = new_df.withColumn('age_udf_cat',age_udf('age'))"
   ]
  },
  {
   "cell_type": "code",
   "execution_count": 18,
   "id": "3176c411",
   "metadata": {
    "scrolled": true
   },
   "outputs": [
    {
     "name": "stdout",
     "output_type": "stream",
     "text": [
      "+-------------------+---------+\n",
      "|age_udf_cat        |Age_Count|\n",
      "+-------------------+---------+\n",
      "|Age Between 25 & 40|588955   |\n",
      "|Age Between 40 & 50|433516   |\n",
      "|Age between 50 & 65|377176   |\n",
      "|Age Over 65        |284802   |\n",
      "|Age Under 25       |167945   |\n",
      "+-------------------+---------+\n",
      "\n"
     ]
    }
   ],
   "source": [
    "age_distribution = new_df.select('age_udf_cat').groupBy('age_udf_cat').agg(count(col('age_udf_cat')).alias('Age_Count')).sort('Age_Count', ascending = False).show(truncate = False)\n",
    "age_distribution"
   ]
  },
  {
   "cell_type": "code",
   "execution_count": 19,
   "id": "d799b0dc",
   "metadata": {},
   "outputs": [
    {
     "data": {
      "text/plain": [
       "<AxesSubplot:xlabel='age_udf_cat'>"
      ]
     },
     "execution_count": 19,
     "metadata": {},
     "output_type": "execute_result"
    },
    {
     "data": {
      "image/png": "[encoded data removed]",
      "text/plain": [
       "<Figure size 432x288 with 1 Axes>"
      ]
     },
     "metadata": {
      "needs_background": "light"
     },
     "output_type": "display_data"
    }
   ],
   "source": [
    "new_df.select('age_udf_cat').toPandas().value_counts().plot.bar()"
   ]
  },
  {
   "cell_type": "code",
   "execution_count": 20,
   "id": "d5284652",
   "metadata": {},
   "outputs": [
    {
     "data": {
      "text/html": [
       "<div>\n",
       "<style scoped>\n",
       "    .dataframe tbody tr th:only-of-type {\n",
       "        vertical-align: middle;\n",
       "    }\n",
       "\n",
       "    .dataframe tbody tr th {\n",
       "        vertical-align: top;\n",
       "    }\n",
       "\n",
       "    .dataframe thead th {\n",
       "        text-align: right;\n",
       "    }\n",
       "</style>\n",
       "<table border=\"1\" class=\"dataframe\">\n",
       "  <thead>\n",
       "    <tr style=\"text-align: right;\">\n",
       "      <th></th>\n",
       "      <th>amt</th>\n",
       "    </tr>\n",
       "  </thead>\n",
       "  <tbody>\n",
       "    <tr>\n",
       "      <th>count</th>\n",
       "      <td>1852394.000</td>\n",
       "    </tr>\n",
       "    <tr>\n",
       "      <th>mean</th>\n",
       "      <td>70.064</td>\n",
       "    </tr>\n",
       "    <tr>\n",
       "      <th>std</th>\n",
       "      <td>159.254</td>\n",
       "    </tr>\n",
       "    <tr>\n",
       "      <th>min</th>\n",
       "      <td>1.000</td>\n",
       "    </tr>\n",
       "    <tr>\n",
       "      <th>25%</th>\n",
       "      <td>9.640</td>\n",
       "    </tr>\n",
       "    <tr>\n",
       "      <th>50%</th>\n",
       "      <td>47.450</td>\n",
       "    </tr>\n",
       "    <tr>\n",
       "      <th>75%</th>\n",
       "      <td>83.100</td>\n",
       "    </tr>\n",
       "    <tr>\n",
       "      <th>95%</th>\n",
       "      <td>195.340</td>\n",
       "    </tr>\n",
       "    <tr>\n",
       "      <th>99.9%</th>\n",
       "      <td>1517.241</td>\n",
       "    </tr>\n",
       "    <tr>\n",
       "      <th>max</th>\n",
       "      <td>28948.900</td>\n",
       "    </tr>\n",
       "  </tbody>\n",
       "</table>\n",
       "</div>"
      ],
      "text/plain": [
       "               amt\n",
       "count  1852394.000\n",
       "mean        70.064\n",
       "std        159.254\n",
       "min          1.000\n",
       "25%          9.640\n",
       "50%         47.450\n",
       "75%         83.100\n",
       "95%        195.340\n",
       "99.9%     1517.241\n",
       "max      28948.900"
      ]
     },
     "execution_count": 20,
     "metadata": {},
     "output_type": "execute_result"
    }
   ],
   "source": [
    "np.round(((new_df.select('amt')).toPandas().describe(percentiles = [0.25,0.5,0.75,0.95,0.999])),3)"
   ]
  },
  {
   "cell_type": "code",
   "execution_count": 21,
   "id": "7c794411",
   "metadata": {},
   "outputs": [
    {
     "data": {
      "text/html": [
       "<div>\n",
       "<style scoped>\n",
       "    .dataframe tbody tr th:only-of-type {\n",
       "        vertical-align: middle;\n",
       "    }\n",
       "\n",
       "    .dataframe tbody tr th {\n",
       "        vertical-align: top;\n",
       "    }\n",
       "\n",
       "    .dataframe thead th {\n",
       "        text-align: right;\n",
       "    }\n",
       "</style>\n",
       "<table border=\"1\" class=\"dataframe\">\n",
       "  <thead>\n",
       "    <tr style=\"text-align: right;\">\n",
       "      <th></th>\n",
       "      <th>amt</th>\n",
       "    </tr>\n",
       "  </thead>\n",
       "  <tbody>\n",
       "    <tr>\n",
       "      <th>count</th>\n",
       "      <td>1842743.000</td>\n",
       "    </tr>\n",
       "    <tr>\n",
       "      <th>mean</th>\n",
       "      <td>67.651</td>\n",
       "    </tr>\n",
       "    <tr>\n",
       "      <th>std</th>\n",
       "      <td>153.548</td>\n",
       "    </tr>\n",
       "    <tr>\n",
       "      <th>min</th>\n",
       "      <td>1.000</td>\n",
       "    </tr>\n",
       "    <tr>\n",
       "      <th>25%</th>\n",
       "      <td>9.610</td>\n",
       "    </tr>\n",
       "    <tr>\n",
       "      <th>50%</th>\n",
       "      <td>47.240</td>\n",
       "    </tr>\n",
       "    <tr>\n",
       "      <th>75%</th>\n",
       "      <td>82.560</td>\n",
       "    </tr>\n",
       "    <tr>\n",
       "      <th>95%</th>\n",
       "      <td>189.590</td>\n",
       "    </tr>\n",
       "    <tr>\n",
       "      <th>99.9%</th>\n",
       "      <td>1519.623</td>\n",
       "    </tr>\n",
       "    <tr>\n",
       "      <th>max</th>\n",
       "      <td>28948.900</td>\n",
       "    </tr>\n",
       "  </tbody>\n",
       "</table>\n",
       "</div>"
      ],
      "text/plain": [
       "               amt\n",
       "count  1842743.000\n",
       "mean        67.651\n",
       "std        153.548\n",
       "min          1.000\n",
       "25%          9.610\n",
       "50%         47.240\n",
       "75%         82.560\n",
       "95%        189.590\n",
       "99.9%     1519.623\n",
       "max      28948.900"
      ]
     },
     "execution_count": 21,
     "metadata": {},
     "output_type": "execute_result"
    }
   ],
   "source": [
    "np.round(((new_df.select('amt').filter(col('is_fraud') == 0)).toPandas().describe(percentiles = [0.25,0.5,0.75,0.95,0.999])),3)"
   ]
  },
  {
   "cell_type": "code",
   "execution_count": null,
   "id": "18570142",
   "metadata": {},
   "outputs": [],
   "source": []
  },
  {
   "cell_type": "code",
   "execution_count": 22,
   "id": "c2de9bd7",
   "metadata": {},
   "outputs": [
    {
     "data": {
      "text/html": [
       "<div>\n",
       "<style scoped>\n",
       "    .dataframe tbody tr th:only-of-type {\n",
       "        vertical-align: middle;\n",
       "    }\n",
       "\n",
       "    .dataframe tbody tr th {\n",
       "        vertical-align: top;\n",
       "    }\n",
       "\n",
       "    .dataframe thead th {\n",
       "        text-align: right;\n",
       "    }\n",
       "</style>\n",
       "<table border=\"1\" class=\"dataframe\">\n",
       "  <thead>\n",
       "    <tr style=\"text-align: right;\">\n",
       "      <th></th>\n",
       "      <th>amt</th>\n",
       "    </tr>\n",
       "  </thead>\n",
       "  <tbody>\n",
       "    <tr>\n",
       "      <th>count</th>\n",
       "      <td>9651.000</td>\n",
       "    </tr>\n",
       "    <tr>\n",
       "      <th>mean</th>\n",
       "      <td>530.661</td>\n",
       "    </tr>\n",
       "    <tr>\n",
       "      <th>std</th>\n",
       "      <td>391.029</td>\n",
       "    </tr>\n",
       "    <tr>\n",
       "      <th>min</th>\n",
       "      <td>1.060</td>\n",
       "    </tr>\n",
       "    <tr>\n",
       "      <th>25%</th>\n",
       "      <td>240.075</td>\n",
       "    </tr>\n",
       "    <tr>\n",
       "      <th>50%</th>\n",
       "      <td>390.000</td>\n",
       "    </tr>\n",
       "    <tr>\n",
       "      <th>75%</th>\n",
       "      <td>902.365</td>\n",
       "    </tr>\n",
       "    <tr>\n",
       "      <th>95%</th>\n",
       "      <td>1084.090</td>\n",
       "    </tr>\n",
       "    <tr>\n",
       "      <th>99.9%</th>\n",
       "      <td>1293.127</td>\n",
       "    </tr>\n",
       "    <tr>\n",
       "      <th>max</th>\n",
       "      <td>1376.040</td>\n",
       "    </tr>\n",
       "  </tbody>\n",
       "</table>\n",
       "</div>"
      ],
      "text/plain": [
       "            amt\n",
       "count  9651.000\n",
       "mean    530.661\n",
       "std     391.029\n",
       "min       1.060\n",
       "25%     240.075\n",
       "50%     390.000\n",
       "75%     902.365\n",
       "95%    1084.090\n",
       "99.9%  1293.127\n",
       "max    1376.040"
      ]
     },
     "execution_count": 22,
     "metadata": {},
     "output_type": "execute_result"
    }
   ],
   "source": [
    "np.round(((new_df.select('amt').filter(col('is_fraud') == 1)).toPandas().describe(percentiles = [0.25,0.5,0.75,0.95,0.999])),3)"
   ]
  },
  {
   "cell_type": "markdown",
   "id": "e8a54d12",
   "metadata": {},
   "source": [
    "As we can see in the above distribution around 99% of total records are approximatly below 1500 amt."
   ]
  },
  {
   "cell_type": "code",
   "execution_count": 23,
   "id": "7c71bad3",
   "metadata": {},
   "outputs": [
    {
     "data": {
      "image/png": "[encoded data removed]",
      "text/plain": [
       "<Figure size 1440x360 with 3 Axes>"
      ]
     },
     "metadata": {
      "needs_background": "light"
     },
     "output_type": "display_data"
    }
   ],
   "source": [
    "# boxplot distribution\n",
    "fig, ax = plt.subplots(1,3,figsize=(20,5))\n",
    "ax[0].boxplot((new_df.select('amt').filter(col('amt') <= 1500.0)).toPandas())\n",
    "ax[1].boxplot((new_df.select('amt').filter((col('amt') <= 1500.0) & (col('is_fraud') == 0))).toPandas())\n",
    "ax[2].boxplot((new_df.select('amt').filter((col('amt') <= 1500.0) & (col('is_fraud') == 1))).toPandas())\n",
    "\n",
    "ax[0].set_title('Overall Amt Distribution')\n",
    "ax[1].set_title('Non Fraud Amt Distribution')\n",
    "ax[2].set_title('Fraud Amt Distribution')\n",
    "\n",
    "ax[0].set_xlabel('Transaction Amount')\n",
    "ax[0].set_ylabel('#.of Transactions')\n",
    "\n",
    "ax[1].set_xlabel('Transaction Amount')\n",
    "ax[2].set_xlabel('Transaction Amount')\n",
    "plt.show()"
   ]
  },
  {
   "cell_type": "code",
   "execution_count": 24,
   "id": "217ca088",
   "metadata": {},
   "outputs": [
    {
     "data": {
      "image/png": "[encoded data removed]",
      "text/plain": [
       "<Figure size 1440x360 with 3 Axes>"
      ]
     },
     "metadata": {
      "needs_background": "light"
     },
     "output_type": "display_data"
    }
   ],
   "source": [
    "# histogram distribution\n",
    "fig, ax = plt.subplots(1,3,figsize=(20,5))\n",
    "ax[0].hist((new_df.select('amt').filter(col('amt') <= 1500.0)).toPandas(),bins = 50)\n",
    "ax[1].hist((new_df.select('amt').filter((col('amt') <= 1500.0) & (col('is_fraud') == 0))).toPandas(),bins = 50)\n",
    "ax[2].hist((new_df.select('amt').filter((col('amt') <= 1500.0) & (col('is_fraud') == 1))).toPandas(),bins = 50)\n",
    "\n",
    "ax[0].set_title('Overall Amt Distribution')\n",
    "ax[1].set_title('Non Fraud Amt Distribution')\n",
    "ax[2].set_title('Fraud Amt Distribution')\n",
    "\n",
    "ax[0].set_xlabel('Transaction Amount')\n",
    "ax[0].set_ylabel('#.of Transactions')\n",
    "\n",
    "ax[1].set_xlabel('Transaction Amount')\n",
    "ax[2].set_xlabel('Transaction Amount')\n",
    "plt.show()"
   ]
  },
  {
   "cell_type": "markdown",
   "id": "4ceef132",
   "metadata": {},
   "source": [
    "### Time Series plots to understand trends"
   ]
  },
  {
   "cell_type": "code",
   "execution_count": 25,
   "id": "e9c485a7",
   "metadata": {},
   "outputs": [],
   "source": [
    "# used pandas to get visualizations and tables based on monthly transactions and fraud transactions. \n",
    "df = new_df.select(to_date('month_year').alias('month_year'),col('trans_num').alias('number_of_transactions'),\n",
    "                                col('cc_num').alias('number_of_customers'),col('is_fraud'),col('gender'),\n",
    "                                   col('category')).toPandas()"
   ]
  },
  {
   "cell_type": "code",
   "execution_count": 26,
   "id": "24b7afbf",
   "metadata": {},
   "outputs": [
    {
     "data": {
      "text/html": [
       "<div>\n",
       "<style scoped>\n",
       "    .dataframe tbody tr th:only-of-type {\n",
       "        vertical-align: middle;\n",
       "    }\n",
       "\n",
       "    .dataframe tbody tr th {\n",
       "        vertical-align: top;\n",
       "    }\n",
       "\n",
       "    .dataframe thead th {\n",
       "        text-align: right;\n",
       "    }\n",
       "</style>\n",
       "<table border=\"1\" class=\"dataframe\">\n",
       "  <thead>\n",
       "    <tr style=\"text-align: right;\">\n",
       "      <th></th>\n",
       "      <th>month_year</th>\n",
       "      <th>number_of_transactions</th>\n",
       "      <th>number_of_customers</th>\n",
       "    </tr>\n",
       "  </thead>\n",
       "  <tbody>\n",
       "    <tr>\n",
       "      <th>0</th>\n",
       "      <td>2019-01-01</td>\n",
       "      <td>52525</td>\n",
       "      <td>913</td>\n",
       "    </tr>\n",
       "    <tr>\n",
       "      <th>1</th>\n",
       "      <td>2019-02-01</td>\n",
       "      <td>49866</td>\n",
       "      <td>918</td>\n",
       "    </tr>\n",
       "    <tr>\n",
       "      <th>2</th>\n",
       "      <td>2019-03-01</td>\n",
       "      <td>70939</td>\n",
       "      <td>916</td>\n",
       "    </tr>\n",
       "    <tr>\n",
       "      <th>3</th>\n",
       "      <td>2019-04-01</td>\n",
       "      <td>68078</td>\n",
       "      <td>913</td>\n",
       "    </tr>\n",
       "    <tr>\n",
       "      <th>4</th>\n",
       "      <td>2019-05-01</td>\n",
       "      <td>72532</td>\n",
       "      <td>910</td>\n",
       "    </tr>\n",
       "    <tr>\n",
       "      <th>5</th>\n",
       "      <td>2019-06-01</td>\n",
       "      <td>86064</td>\n",
       "      <td>908</td>\n",
       "    </tr>\n",
       "    <tr>\n",
       "      <th>6</th>\n",
       "      <td>2019-07-01</td>\n",
       "      <td>86596</td>\n",
       "      <td>910</td>\n",
       "    </tr>\n",
       "    <tr>\n",
       "      <th>7</th>\n",
       "      <td>2019-08-01</td>\n",
       "      <td>87359</td>\n",
       "      <td>911</td>\n",
       "    </tr>\n",
       "    <tr>\n",
       "      <th>8</th>\n",
       "      <td>2019-09-01</td>\n",
       "      <td>70652</td>\n",
       "      <td>913</td>\n",
       "    </tr>\n",
       "    <tr>\n",
       "      <th>9</th>\n",
       "      <td>2019-10-01</td>\n",
       "      <td>68758</td>\n",
       "      <td>912</td>\n",
       "    </tr>\n",
       "    <tr>\n",
       "      <th>10</th>\n",
       "      <td>2019-11-01</td>\n",
       "      <td>70421</td>\n",
       "      <td>911</td>\n",
       "    </tr>\n",
       "    <tr>\n",
       "      <th>11</th>\n",
       "      <td>2019-12-01</td>\n",
       "      <td>141060</td>\n",
       "      <td>916</td>\n",
       "    </tr>\n",
       "    <tr>\n",
       "      <th>12</th>\n",
       "      <td>2020-01-01</td>\n",
       "      <td>52202</td>\n",
       "      <td>911</td>\n",
       "    </tr>\n",
       "    <tr>\n",
       "      <th>13</th>\n",
       "      <td>2020-02-01</td>\n",
       "      <td>47791</td>\n",
       "      <td>909</td>\n",
       "    </tr>\n",
       "    <tr>\n",
       "      <th>14</th>\n",
       "      <td>2020-03-01</td>\n",
       "      <td>72850</td>\n",
       "      <td>912</td>\n",
       "    </tr>\n",
       "    <tr>\n",
       "      <th>15</th>\n",
       "      <td>2020-04-01</td>\n",
       "      <td>66892</td>\n",
       "      <td>914</td>\n",
       "    </tr>\n",
       "    <tr>\n",
       "      <th>16</th>\n",
       "      <td>2020-05-01</td>\n",
       "      <td>74343</td>\n",
       "      <td>915</td>\n",
       "    </tr>\n",
       "    <tr>\n",
       "      <th>17</th>\n",
       "      <td>2020-06-01</td>\n",
       "      <td>87805</td>\n",
       "      <td>911</td>\n",
       "    </tr>\n",
       "    <tr>\n",
       "      <th>18</th>\n",
       "      <td>2020-07-01</td>\n",
       "      <td>85848</td>\n",
       "      <td>911</td>\n",
       "    </tr>\n",
       "    <tr>\n",
       "      <th>19</th>\n",
       "      <td>2020-08-01</td>\n",
       "      <td>88759</td>\n",
       "      <td>908</td>\n",
       "    </tr>\n",
       "    <tr>\n",
       "      <th>20</th>\n",
       "      <td>2020-09-01</td>\n",
       "      <td>69533</td>\n",
       "      <td>914</td>\n",
       "    </tr>\n",
       "    <tr>\n",
       "      <th>21</th>\n",
       "      <td>2020-10-01</td>\n",
       "      <td>69348</td>\n",
       "      <td>913</td>\n",
       "    </tr>\n",
       "    <tr>\n",
       "      <th>22</th>\n",
       "      <td>2020-11-01</td>\n",
       "      <td>72635</td>\n",
       "      <td>909</td>\n",
       "    </tr>\n",
       "    <tr>\n",
       "      <th>23</th>\n",
       "      <td>2020-12-01</td>\n",
       "      <td>139538</td>\n",
       "      <td>910</td>\n",
       "    </tr>\n",
       "  </tbody>\n",
       "</table>\n",
       "</div>"
      ],
      "text/plain": [
       "    month_year  number_of_transactions  number_of_customers\n",
       "0   2019-01-01                   52525                  913\n",
       "1   2019-02-01                   49866                  918\n",
       "2   2019-03-01                   70939                  916\n",
       "3   2019-04-01                   68078                  913\n",
       "4   2019-05-01                   72532                  910\n",
       "5   2019-06-01                   86064                  908\n",
       "6   2019-07-01                   86596                  910\n",
       "7   2019-08-01                   87359                  911\n",
       "8   2019-09-01                   70652                  913\n",
       "9   2019-10-01                   68758                  912\n",
       "10  2019-11-01                   70421                  911\n",
       "11  2019-12-01                  141060                  916\n",
       "12  2020-01-01                   52202                  911\n",
       "13  2020-02-01                   47791                  909\n",
       "14  2020-03-01                   72850                  912\n",
       "15  2020-04-01                   66892                  914\n",
       "16  2020-05-01                   74343                  915\n",
       "17  2020-06-01                   87805                  911\n",
       "18  2020-07-01                   85848                  911\n",
       "19  2020-08-01                   88759                  908\n",
       "20  2020-09-01                   69533                  914\n",
       "21  2020-10-01                   69348                  913\n",
       "22  2020-11-01                   72635                  909\n",
       "23  2020-12-01                  139538                  910"
      ]
     },
     "execution_count": 26,
     "metadata": {},
     "output_type": "execute_result"
    }
   ],
   "source": [
    "df_ts_month_trans = df.groupby(df['month_year'])[['number_of_transactions','number_of_customers']].nunique().reset_index()\n",
    "#df_ts_month_trans = df_ts_month_trans.sort_values(by = ['month_year'])\n",
    "df_ts_month_trans"
   ]
  },
  {
   "cell_type": "code",
   "execution_count": 27,
   "id": "f304ce1b",
   "metadata": {},
   "outputs": [
    {
     "data": {
      "image/png": "[encoded data removed]",
      "text/plain": [
       "<Figure size 1440x360 with 1 Axes>"
      ]
     },
     "metadata": {
      "needs_background": "light"
     },
     "output_type": "display_data"
    }
   ],
   "source": [
    "x = np.arange(0,len(df_ts_month_trans),1)\n",
    "\n",
    "fig, ax = plt.subplots(1,1,figsize=(20,5))\n",
    "ax.plot(x,df_ts_month_trans['number_of_transactions'])\n",
    "ax.set_xticks(x)\n",
    "ax.set_xticklabels(df_ts_month_trans['month_year'])\n",
    "\n",
    "ax.set_xlabel('month & year')\n",
    "ax.set_ylabel('number of transactions')\n",
    "plt.show()"
   ]
  },
  {
   "cell_type": "code",
   "execution_count": 28,
   "id": "0d3a6bd4",
   "metadata": {},
   "outputs": [
    {
     "data": {
      "image/png": "[encoded data removed]",
      "text/plain": [
       "<Figure size 1440x360 with 1 Axes>"
      ]
     },
     "metadata": {
      "needs_background": "light"
     },
     "output_type": "display_data"
    }
   ],
   "source": [
    "x = np.arange(0,len(df_ts_month_trans),1)\n",
    "\n",
    "fig, ax = plt.subplots(1,1,figsize=(20,5))\n",
    "ax.plot(x,df_ts_month_trans['number_of_customers'])\n",
    "ax.set_xticks(x)\n",
    "ax.set_xticklabels(df_ts_month_trans['month_year'])\n",
    "\n",
    "ax.set_xlabel('month & year')\n",
    "ax.set_ylabel('number of customers')\n",
    "plt.show()"
   ]
  },
  {
   "cell_type": "code",
   "execution_count": 29,
   "id": "e9f5a430",
   "metadata": {},
   "outputs": [
    {
     "data": {
      "text/html": [
       "<div>\n",
       "<style scoped>\n",
       "    .dataframe tbody tr th:only-of-type {\n",
       "        vertical-align: middle;\n",
       "    }\n",
       "\n",
       "    .dataframe tbody tr th {\n",
       "        vertical-align: top;\n",
       "    }\n",
       "\n",
       "    .dataframe thead th {\n",
       "        text-align: right;\n",
       "    }\n",
       "</style>\n",
       "<table border=\"1\" class=\"dataframe\">\n",
       "  <thead>\n",
       "    <tr style=\"text-align: right;\">\n",
       "      <th></th>\n",
       "      <th>month_year</th>\n",
       "      <th>num_of_fraud_transactions</th>\n",
       "      <th>fraud_customers</th>\n",
       "    </tr>\n",
       "  </thead>\n",
       "  <tbody>\n",
       "    <tr>\n",
       "      <th>0</th>\n",
       "      <td>2019-01-01</td>\n",
       "      <td>506</td>\n",
       "      <td>50</td>\n",
       "    </tr>\n",
       "    <tr>\n",
       "      <th>1</th>\n",
       "      <td>2019-02-01</td>\n",
       "      <td>517</td>\n",
       "      <td>53</td>\n",
       "    </tr>\n",
       "    <tr>\n",
       "      <th>2</th>\n",
       "      <td>2019-03-01</td>\n",
       "      <td>494</td>\n",
       "      <td>49</td>\n",
       "    </tr>\n",
       "    <tr>\n",
       "      <th>3</th>\n",
       "      <td>2019-04-01</td>\n",
       "      <td>376</td>\n",
       "      <td>41</td>\n",
       "    </tr>\n",
       "    <tr>\n",
       "      <th>4</th>\n",
       "      <td>2019-05-01</td>\n",
       "      <td>408</td>\n",
       "      <td>42</td>\n",
       "    </tr>\n",
       "    <tr>\n",
       "      <th>5</th>\n",
       "      <td>2019-06-01</td>\n",
       "      <td>354</td>\n",
       "      <td>35</td>\n",
       "    </tr>\n",
       "    <tr>\n",
       "      <th>6</th>\n",
       "      <td>2019-07-01</td>\n",
       "      <td>331</td>\n",
       "      <td>36</td>\n",
       "    </tr>\n",
       "    <tr>\n",
       "      <th>7</th>\n",
       "      <td>2019-08-01</td>\n",
       "      <td>382</td>\n",
       "      <td>39</td>\n",
       "    </tr>\n",
       "    <tr>\n",
       "      <th>8</th>\n",
       "      <td>2019-09-01</td>\n",
       "      <td>418</td>\n",
       "      <td>44</td>\n",
       "    </tr>\n",
       "    <tr>\n",
       "      <th>9</th>\n",
       "      <td>2019-10-01</td>\n",
       "      <td>454</td>\n",
       "      <td>50</td>\n",
       "    </tr>\n",
       "    <tr>\n",
       "      <th>10</th>\n",
       "      <td>2019-11-01</td>\n",
       "      <td>388</td>\n",
       "      <td>41</td>\n",
       "    </tr>\n",
       "    <tr>\n",
       "      <th>11</th>\n",
       "      <td>2019-12-01</td>\n",
       "      <td>592</td>\n",
       "      <td>62</td>\n",
       "    </tr>\n",
       "    <tr>\n",
       "      <th>12</th>\n",
       "      <td>2020-01-01</td>\n",
       "      <td>343</td>\n",
       "      <td>40</td>\n",
       "    </tr>\n",
       "    <tr>\n",
       "      <th>13</th>\n",
       "      <td>2020-02-01</td>\n",
       "      <td>336</td>\n",
       "      <td>35</td>\n",
       "    </tr>\n",
       "    <tr>\n",
       "      <th>14</th>\n",
       "      <td>2020-03-01</td>\n",
       "      <td>444</td>\n",
       "      <td>45</td>\n",
       "    </tr>\n",
       "    <tr>\n",
       "      <th>15</th>\n",
       "      <td>2020-04-01</td>\n",
       "      <td>302</td>\n",
       "      <td>36</td>\n",
       "    </tr>\n",
       "    <tr>\n",
       "      <th>16</th>\n",
       "      <td>2020-05-01</td>\n",
       "      <td>527</td>\n",
       "      <td>54</td>\n",
       "    </tr>\n",
       "    <tr>\n",
       "      <th>17</th>\n",
       "      <td>2020-06-01</td>\n",
       "      <td>467</td>\n",
       "      <td>47</td>\n",
       "    </tr>\n",
       "    <tr>\n",
       "      <th>18</th>\n",
       "      <td>2020-07-01</td>\n",
       "      <td>321</td>\n",
       "      <td>35</td>\n",
       "    </tr>\n",
       "    <tr>\n",
       "      <th>19</th>\n",
       "      <td>2020-08-01</td>\n",
       "      <td>415</td>\n",
       "      <td>41</td>\n",
       "    </tr>\n",
       "    <tr>\n",
       "      <th>20</th>\n",
       "      <td>2020-09-01</td>\n",
       "      <td>340</td>\n",
       "      <td>35</td>\n",
       "    </tr>\n",
       "    <tr>\n",
       "      <th>21</th>\n",
       "      <td>2020-10-01</td>\n",
       "      <td>384</td>\n",
       "      <td>39</td>\n",
       "    </tr>\n",
       "    <tr>\n",
       "      <th>22</th>\n",
       "      <td>2020-11-01</td>\n",
       "      <td>294</td>\n",
       "      <td>31</td>\n",
       "    </tr>\n",
       "    <tr>\n",
       "      <th>23</th>\n",
       "      <td>2020-12-01</td>\n",
       "      <td>258</td>\n",
       "      <td>26</td>\n",
       "    </tr>\n",
       "  </tbody>\n",
       "</table>\n",
       "</div>"
      ],
      "text/plain": [
       "    month_year  num_of_fraud_transactions  fraud_customers\n",
       "0   2019-01-01                        506               50\n",
       "1   2019-02-01                        517               53\n",
       "2   2019-03-01                        494               49\n",
       "3   2019-04-01                        376               41\n",
       "4   2019-05-01                        408               42\n",
       "5   2019-06-01                        354               35\n",
       "6   2019-07-01                        331               36\n",
       "7   2019-08-01                        382               39\n",
       "8   2019-09-01                        418               44\n",
       "9   2019-10-01                        454               50\n",
       "10  2019-11-01                        388               41\n",
       "11  2019-12-01                        592               62\n",
       "12  2020-01-01                        343               40\n",
       "13  2020-02-01                        336               35\n",
       "14  2020-03-01                        444               45\n",
       "15  2020-04-01                        302               36\n",
       "16  2020-05-01                        527               54\n",
       "17  2020-06-01                        467               47\n",
       "18  2020-07-01                        321               35\n",
       "19  2020-08-01                        415               41\n",
       "20  2020-09-01                        340               35\n",
       "21  2020-10-01                        384               39\n",
       "22  2020-11-01                        294               31\n",
       "23  2020-12-01                        258               26"
      ]
     },
     "execution_count": 29,
     "metadata": {},
     "output_type": "execute_result"
    }
   ],
   "source": [
    "df_fraud_transactions = df[df['is_fraud']==1]\n",
    "\n",
    "df_ts_fraud_month_trans = df_fraud_transactions.groupby(df_fraud_transactions['month_year'])[['number_of_transactions','number_of_customers']].nunique().reset_index()\n",
    "df_ts_fraud_month_trans.columns = ['month_year','num_of_fraud_transactions','fraud_customers']\n",
    "df_ts_fraud_month_trans"
   ]
  },
  {
   "cell_type": "code",
   "execution_count": 30,
   "id": "75d845c3",
   "metadata": {},
   "outputs": [
    {
     "data": {
      "image/png": "[encoded data removed]",
      "text/plain": [
       "<Figure size 1440x360 with 1 Axes>"
      ]
     },
     "metadata": {
      "needs_background": "light"
     },
     "output_type": "display_data"
    }
   ],
   "source": [
    "x = np.arange(0,len(df_ts_fraud_month_trans),1)\n",
    "\n",
    "fig, ax = plt.subplots(1,1,figsize=(20,5))\n",
    "ax.plot(x,df_ts_fraud_month_trans['num_of_fraud_transactions'])\n",
    "ax.set_xticks(x)\n",
    "ax.set_xticklabels(df_ts_fraud_month_trans['month_year'])\n",
    "\n",
    "ax.set_xlabel('Year & Month')\n",
    "ax.set_ylabel('Num of Fraud Transactions')\n",
    "plt.show()"
   ]
  },
  {
   "cell_type": "code",
   "execution_count": 31,
   "id": "506b05ea",
   "metadata": {},
   "outputs": [
    {
     "data": {
      "image/png": "[encoded data removed]",
      "text/plain": [
       "<Figure size 1440x360 with 1 Axes>"
      ]
     },
     "metadata": {
      "needs_background": "light"
     },
     "output_type": "display_data"
    }
   ],
   "source": [
    "x = np.arange(0,len(df_ts_fraud_month_trans),1)\n",
    "\n",
    "fig, ax = plt.subplots(1,1,figsize=(20,5))\n",
    "ax.plot(x,df_ts_fraud_month_trans['fraud_customers'])\n",
    "ax.set_xticks(x)\n",
    "ax.set_xticklabels(df_ts_fraud_month_trans['month_year'])\n",
    "\n",
    "ax.set_xlabel('Year & Month')\n",
    "ax.set_ylabel('Num of Fraud Customers')\n",
    "plt.show()"
   ]
  },
  {
   "cell_type": "code",
   "execution_count": 32,
   "id": "eb734b5b",
   "metadata": {},
   "outputs": [
    {
     "data": {
      "text/html": [
       "<div>\n",
       "<style scoped>\n",
       "    .dataframe tbody tr th:only-of-type {\n",
       "        vertical-align: middle;\n",
       "    }\n",
       "\n",
       "    .dataframe tbody tr th {\n",
       "        vertical-align: top;\n",
       "    }\n",
       "\n",
       "    .dataframe thead th {\n",
       "        text-align: right;\n",
       "    }\n",
       "</style>\n",
       "<table border=\"1\" class=\"dataframe\">\n",
       "  <thead>\n",
       "    <tr style=\"text-align: right;\">\n",
       "      <th></th>\n",
       "      <th>Gender</th>\n",
       "      <th>gender_count</th>\n",
       "      <th>percent</th>\n",
       "    </tr>\n",
       "  </thead>\n",
       "  <tbody>\n",
       "    <tr>\n",
       "      <th>0</th>\n",
       "      <td>F</td>\n",
       "      <td>1014749</td>\n",
       "      <td>54.780408</td>\n",
       "    </tr>\n",
       "    <tr>\n",
       "      <th>1</th>\n",
       "      <td>M</td>\n",
       "      <td>837645</td>\n",
       "      <td>45.219592</td>\n",
       "    </tr>\n",
       "  </tbody>\n",
       "</table>\n",
       "</div>"
      ],
      "text/plain": [
       "  Gender  gender_count    percent\n",
       "0      F       1014749  54.780408\n",
       "1      M        837645  45.219592"
      ]
     },
     "execution_count": 32,
     "metadata": {},
     "output_type": "execute_result"
    }
   ],
   "source": [
    "df_gender = df[['gender','number_of_transactions']].groupby(['gender']).count().reset_index()\n",
    "\n",
    "df_gender.columns = ['Gender','gender_count']\n",
    "\n",
    "df_gender['percent'] = (df_gender['gender_count']/df_gender['gender_count'].sum())*100\n",
    "\n",
    "df_gender"
   ]
  },
  {
   "cell_type": "code",
   "execution_count": 33,
   "id": "dafd57f1",
   "metadata": {},
   "outputs": [
    {
     "data": {
      "image/png": "[encoded data removed]",
      "text/plain": [
       "<Figure size 432x288 with 1 Axes>"
      ]
     },
     "metadata": {
      "needs_background": "light"
     },
     "output_type": "display_data"
    }
   ],
   "source": [
    "plt.bar(df_gender['Gender'], df_gender['gender_count'], color=(0.2, 0.4, 0.6, 0.6),  \n",
    "        width = 0.4)\n",
    "\n",
    "plt.show()"
   ]
  },
  {
   "cell_type": "code",
   "execution_count": 34,
   "id": "9d15de4e",
   "metadata": {},
   "outputs": [
    {
     "data": {
      "text/html": [
       "<div>\n",
       "<style scoped>\n",
       "    .dataframe tbody tr th:only-of-type {\n",
       "        vertical-align: middle;\n",
       "    }\n",
       "\n",
       "    .dataframe tbody tr th {\n",
       "        vertical-align: top;\n",
       "    }\n",
       "\n",
       "    .dataframe thead th {\n",
       "        text-align: right;\n",
       "    }\n",
       "</style>\n",
       "<table border=\"1\" class=\"dataframe\">\n",
       "  <thead>\n",
       "    <tr style=\"text-align: right;\">\n",
       "      <th></th>\n",
       "      <th>Gender</th>\n",
       "      <th>is_fraud</th>\n",
       "      <th>count</th>\n",
       "      <th>gender_count</th>\n",
       "      <th>percent_grp</th>\n",
       "    </tr>\n",
       "  </thead>\n",
       "  <tbody>\n",
       "    <tr>\n",
       "      <th>0</th>\n",
       "      <td>F</td>\n",
       "      <td>0</td>\n",
       "      <td>1009850</td>\n",
       "      <td>1014749</td>\n",
       "      <td>99.517221</td>\n",
       "    </tr>\n",
       "    <tr>\n",
       "      <th>1</th>\n",
       "      <td>F</td>\n",
       "      <td>1</td>\n",
       "      <td>4899</td>\n",
       "      <td>1014749</td>\n",
       "      <td>0.482779</td>\n",
       "    </tr>\n",
       "    <tr>\n",
       "      <th>2</th>\n",
       "      <td>M</td>\n",
       "      <td>0</td>\n",
       "      <td>832893</td>\n",
       "      <td>837645</td>\n",
       "      <td>99.432695</td>\n",
       "    </tr>\n",
       "    <tr>\n",
       "      <th>3</th>\n",
       "      <td>M</td>\n",
       "      <td>1</td>\n",
       "      <td>4752</td>\n",
       "      <td>837645</td>\n",
       "      <td>0.567305</td>\n",
       "    </tr>\n",
       "  </tbody>\n",
       "</table>\n",
       "</div>"
      ],
      "text/plain": [
       "  Gender  is_fraud    count  gender_count  percent_grp\n",
       "0      F         0  1009850       1014749    99.517221\n",
       "1      F         1     4899       1014749     0.482779\n",
       "2      M         0   832893        837645    99.432695\n",
       "3      M         1     4752        837645     0.567305"
      ]
     },
     "execution_count": 34,
     "metadata": {},
     "output_type": "execute_result"
    }
   ],
   "source": [
    "df_fraud_gender = df[['gender','is_fraud','number_of_transactions']].groupby(['gender','is_fraud']).count().reset_index()\n",
    "df_fraud_gender.columns = ['Gender','is_fraud','count']\n",
    "\n",
    "df_fraud_gender = df_fraud_gender.merge(df_gender[['Gender','gender_count']],how='inner',\\\n",
    "                                  left_on='Gender',right_on='Gender')\n",
    "\n",
    "\n",
    "df_fraud_gender['percent_grp'] = (df_fraud_gender['count']/df_fraud_gender['gender_count'])*100\n",
    "\n",
    "\n",
    "df_fraud_gender"
   ]
  },
  {
   "cell_type": "code",
   "execution_count": 35,
   "id": "c47af6c0",
   "metadata": {
    "scrolled": false
   },
   "outputs": [
    {
     "data": {
      "text/html": [
       "<div>\n",
       "<style scoped>\n",
       "    .dataframe tbody tr th:only-of-type {\n",
       "        vertical-align: middle;\n",
       "    }\n",
       "\n",
       "    .dataframe tbody tr th {\n",
       "        vertical-align: top;\n",
       "    }\n",
       "\n",
       "    .dataframe thead th {\n",
       "        text-align: right;\n",
       "    }\n",
       "</style>\n",
       "<table border=\"1\" class=\"dataframe\">\n",
       "  <thead>\n",
       "    <tr style=\"text-align: right;\">\n",
       "      <th></th>\n",
       "      <th>Category</th>\n",
       "      <th>category_count</th>\n",
       "      <th>percent</th>\n",
       "    </tr>\n",
       "  </thead>\n",
       "  <tbody>\n",
       "    <tr>\n",
       "      <th>0</th>\n",
       "      <td>gas_transport</td>\n",
       "      <td>188029</td>\n",
       "      <td>10.150594</td>\n",
       "    </tr>\n",
       "    <tr>\n",
       "      <th>1</th>\n",
       "      <td>grocery_pos</td>\n",
       "      <td>176191</td>\n",
       "      <td>9.511529</td>\n",
       "    </tr>\n",
       "    <tr>\n",
       "      <th>2</th>\n",
       "      <td>home</td>\n",
       "      <td>175460</td>\n",
       "      <td>9.472067</td>\n",
       "    </tr>\n",
       "    <tr>\n",
       "      <th>3</th>\n",
       "      <td>shopping_pos</td>\n",
       "      <td>166463</td>\n",
       "      <td>8.986371</td>\n",
       "    </tr>\n",
       "    <tr>\n",
       "      <th>4</th>\n",
       "      <td>kids_pets</td>\n",
       "      <td>161727</td>\n",
       "      <td>8.730702</td>\n",
       "    </tr>\n",
       "    <tr>\n",
       "      <th>5</th>\n",
       "      <td>shopping_net</td>\n",
       "      <td>139322</td>\n",
       "      <td>7.521186</td>\n",
       "    </tr>\n",
       "    <tr>\n",
       "      <th>6</th>\n",
       "      <td>entertainment</td>\n",
       "      <td>134118</td>\n",
       "      <td>7.240252</td>\n",
       "    </tr>\n",
       "    <tr>\n",
       "      <th>7</th>\n",
       "      <td>food_dining</td>\n",
       "      <td>130729</td>\n",
       "      <td>7.057300</td>\n",
       "    </tr>\n",
       "    <tr>\n",
       "      <th>8</th>\n",
       "      <td>personal_care</td>\n",
       "      <td>130085</td>\n",
       "      <td>7.022534</td>\n",
       "    </tr>\n",
       "    <tr>\n",
       "      <th>9</th>\n",
       "      <td>health_fitness</td>\n",
       "      <td>122553</td>\n",
       "      <td>6.615925</td>\n",
       "    </tr>\n",
       "    <tr>\n",
       "      <th>10</th>\n",
       "      <td>misc_pos</td>\n",
       "      <td>114229</td>\n",
       "      <td>6.166561</td>\n",
       "    </tr>\n",
       "    <tr>\n",
       "      <th>11</th>\n",
       "      <td>misc_net</td>\n",
       "      <td>90654</td>\n",
       "      <td>4.893883</td>\n",
       "    </tr>\n",
       "    <tr>\n",
       "      <th>12</th>\n",
       "      <td>grocery_net</td>\n",
       "      <td>64878</td>\n",
       "      <td>3.502387</td>\n",
       "    </tr>\n",
       "    <tr>\n",
       "      <th>13</th>\n",
       "      <td>travel</td>\n",
       "      <td>57956</td>\n",
       "      <td>3.128708</td>\n",
       "    </tr>\n",
       "  </tbody>\n",
       "</table>\n",
       "</div>"
      ],
      "text/plain": [
       "          Category  category_count    percent\n",
       "0    gas_transport          188029  10.150594\n",
       "1      grocery_pos          176191   9.511529\n",
       "2             home          175460   9.472067\n",
       "3     shopping_pos          166463   8.986371\n",
       "4        kids_pets          161727   8.730702\n",
       "5     shopping_net          139322   7.521186\n",
       "6    entertainment          134118   7.240252\n",
       "7      food_dining          130729   7.057300\n",
       "8    personal_care          130085   7.022534\n",
       "9   health_fitness          122553   6.615925\n",
       "10        misc_pos          114229   6.166561\n",
       "11        misc_net           90654   4.893883\n",
       "12     grocery_net           64878   3.502387\n",
       "13          travel           57956   3.128708"
      ]
     },
     "execution_count": 35,
     "metadata": {},
     "output_type": "execute_result"
    }
   ],
   "source": [
    "df_category = df[['category','number_of_transactions']].groupby(['category']).count().reset_index()\n",
    "df_category.columns = ['Category','category_count']\n",
    "\n",
    "df_category['percent'] = (df_category['category_count']/df_category['category_count'].sum())*100\n",
    "\n",
    "df_category = (df_category.sort_values(by = ['percent'], ascending=False).reset_index()).drop('index',axis = 1)\n",
    "df_category\n"
   ]
  },
  {
   "cell_type": "code",
   "execution_count": 36,
   "id": "a20def79",
   "metadata": {},
   "outputs": [
    {
     "data": {
      "image/png": "[encoded data removed]",
      "text/plain": [
       "<Figure size 1440x432 with 1 Axes>"
      ]
     },
     "metadata": {
      "needs_background": "light"
     },
     "output_type": "display_data"
    }
   ],
   "source": [
    "fig = plt.figure(figsize = (20, 6)) \n",
    "\n",
    "\n",
    "plt.bar(df_category['Category'], df_category['category_count'], color=(0.2, 0.4, 0.6, 0.6),  \n",
    "        width = 0.4)\n",
    "\n",
    "plt.show()"
   ]
  },
  {
   "cell_type": "code",
   "execution_count": 37,
   "id": "e8c184eb",
   "metadata": {},
   "outputs": [
    {
     "data": {
      "text/html": [
       "<div>\n",
       "<style scoped>\n",
       "    .dataframe tbody tr th:only-of-type {\n",
       "        vertical-align: middle;\n",
       "    }\n",
       "\n",
       "    .dataframe tbody tr th {\n",
       "        vertical-align: top;\n",
       "    }\n",
       "\n",
       "    .dataframe thead th {\n",
       "        text-align: right;\n",
       "    }\n",
       "</style>\n",
       "<table border=\"1\" class=\"dataframe\">\n",
       "  <thead>\n",
       "    <tr style=\"text-align: right;\">\n",
       "      <th></th>\n",
       "      <th>Category</th>\n",
       "      <th>is_fraud</th>\n",
       "      <th>count</th>\n",
       "      <th>category_count</th>\n",
       "      <th>percent</th>\n",
       "      <th>percent_grp</th>\n",
       "    </tr>\n",
       "  </thead>\n",
       "  <tbody>\n",
       "    <tr>\n",
       "      <th>11</th>\n",
       "      <td>health_fitness</td>\n",
       "      <td>1</td>\n",
       "      <td>185</td>\n",
       "      <td>122553</td>\n",
       "      <td>6.615925</td>\n",
       "      <td>0.150955</td>\n",
       "    </tr>\n",
       "    <tr>\n",
       "      <th>13</th>\n",
       "      <td>home</td>\n",
       "      <td>1</td>\n",
       "      <td>265</td>\n",
       "      <td>175460</td>\n",
       "      <td>9.472067</td>\n",
       "      <td>0.151032</td>\n",
       "    </tr>\n",
       "    <tr>\n",
       "      <th>3</th>\n",
       "      <td>food_dining</td>\n",
       "      <td>1</td>\n",
       "      <td>205</td>\n",
       "      <td>130729</td>\n",
       "      <td>7.057300</td>\n",
       "      <td>0.156813</td>\n",
       "    </tr>\n",
       "    <tr>\n",
       "      <th>15</th>\n",
       "      <td>kids_pets</td>\n",
       "      <td>1</td>\n",
       "      <td>304</td>\n",
       "      <td>161727</td>\n",
       "      <td>8.730702</td>\n",
       "      <td>0.187971</td>\n",
       "    </tr>\n",
       "    <tr>\n",
       "      <th>1</th>\n",
       "      <td>entertainment</td>\n",
       "      <td>1</td>\n",
       "      <td>292</td>\n",
       "      <td>134118</td>\n",
       "      <td>7.240252</td>\n",
       "      <td>0.217719</td>\n",
       "    </tr>\n",
       "    <tr>\n",
       "      <th>21</th>\n",
       "      <td>personal_care</td>\n",
       "      <td>1</td>\n",
       "      <td>290</td>\n",
       "      <td>130085</td>\n",
       "      <td>7.022534</td>\n",
       "      <td>0.222931</td>\n",
       "    </tr>\n",
       "    <tr>\n",
       "      <th>27</th>\n",
       "      <td>travel</td>\n",
       "      <td>1</td>\n",
       "      <td>156</td>\n",
       "      <td>57956</td>\n",
       "      <td>3.128708</td>\n",
       "      <td>0.269170</td>\n",
       "    </tr>\n",
       "    <tr>\n",
       "      <th>7</th>\n",
       "      <td>grocery_net</td>\n",
       "      <td>1</td>\n",
       "      <td>175</td>\n",
       "      <td>64878</td>\n",
       "      <td>3.502387</td>\n",
       "      <td>0.269737</td>\n",
       "    </tr>\n",
       "    <tr>\n",
       "      <th>19</th>\n",
       "      <td>misc_pos</td>\n",
       "      <td>1</td>\n",
       "      <td>322</td>\n",
       "      <td>114229</td>\n",
       "      <td>6.166561</td>\n",
       "      <td>0.281890</td>\n",
       "    </tr>\n",
       "    <tr>\n",
       "      <th>5</th>\n",
       "      <td>gas_transport</td>\n",
       "      <td>1</td>\n",
       "      <td>772</td>\n",
       "      <td>188029</td>\n",
       "      <td>10.150594</td>\n",
       "      <td>0.410575</td>\n",
       "    </tr>\n",
       "    <tr>\n",
       "      <th>25</th>\n",
       "      <td>shopping_pos</td>\n",
       "      <td>1</td>\n",
       "      <td>1056</td>\n",
       "      <td>166463</td>\n",
       "      <td>8.986371</td>\n",
       "      <td>0.634375</td>\n",
       "    </tr>\n",
       "    <tr>\n",
       "      <th>9</th>\n",
       "      <td>grocery_pos</td>\n",
       "      <td>1</td>\n",
       "      <td>2228</td>\n",
       "      <td>176191</td>\n",
       "      <td>9.511529</td>\n",
       "      <td>1.264537</td>\n",
       "    </tr>\n",
       "    <tr>\n",
       "      <th>17</th>\n",
       "      <td>misc_net</td>\n",
       "      <td>1</td>\n",
       "      <td>1182</td>\n",
       "      <td>90654</td>\n",
       "      <td>4.893883</td>\n",
       "      <td>1.303859</td>\n",
       "    </tr>\n",
       "    <tr>\n",
       "      <th>23</th>\n",
       "      <td>shopping_net</td>\n",
       "      <td>1</td>\n",
       "      <td>2219</td>\n",
       "      <td>139322</td>\n",
       "      <td>7.521186</td>\n",
       "      <td>1.592713</td>\n",
       "    </tr>\n",
       "  </tbody>\n",
       "</table>\n",
       "</div>"
      ],
      "text/plain": [
       "          Category  is_fraud  count  category_count    percent  percent_grp\n",
       "11  health_fitness         1    185          122553   6.615925     0.150955\n",
       "13            home         1    265          175460   9.472067     0.151032\n",
       "3      food_dining         1    205          130729   7.057300     0.156813\n",
       "15       kids_pets         1    304          161727   8.730702     0.187971\n",
       "1    entertainment         1    292          134118   7.240252     0.217719\n",
       "21   personal_care         1    290          130085   7.022534     0.222931\n",
       "27          travel         1    156           57956   3.128708     0.269170\n",
       "7      grocery_net         1    175           64878   3.502387     0.269737\n",
       "19        misc_pos         1    322          114229   6.166561     0.281890\n",
       "5    gas_transport         1    772          188029  10.150594     0.410575\n",
       "25    shopping_pos         1   1056          166463   8.986371     0.634375\n",
       "9      grocery_pos         1   2228          176191   9.511529     1.264537\n",
       "17        misc_net         1   1182           90654   4.893883     1.303859\n",
       "23    shopping_net         1   2219          139322   7.521186     1.592713"
      ]
     },
     "execution_count": 37,
     "metadata": {},
     "output_type": "execute_result"
    }
   ],
   "source": [
    "df_fraud_category = df[['category','is_fraud','number_of_transactions']].groupby(['category','is_fraud']).count().reset_index()\n",
    "df_fraud_category.columns = ['Category','is_fraud','count']\n",
    "\n",
    "df_fraud_category = df_fraud_category.merge(df_category[['Category','category_count','percent']],how='inner',\\\n",
    "                                  left_on='Category',right_on='Category')\n",
    "\n",
    "\n",
    "df_fraud_category['percent_grp'] = (df_fraud_category['count']/df_fraud_category['category_count'])*100\n",
    "\n",
    "df_fraud=df_fraud_category[df_fraud_category['is_fraud'] == 1].sort_values(by = ['percent_grp'])\n",
    "df_fraud"
   ]
  },
  {
   "cell_type": "code",
   "execution_count": 38,
   "id": "59a9fec2",
   "metadata": {
    "scrolled": true
   },
   "outputs": [
    {
     "data": {
      "image/png": "[encoded data removed]",
      "text/plain": [
       "<Figure size 1440x432 with 1 Axes>"
      ]
     },
     "metadata": {
      "needs_background": "light"
     },
     "output_type": "display_data"
    }
   ],
   "source": [
    "fig = plt.figure(figsize = (20, 6)) \n",
    "\n",
    "\n",
    "plt.bar(df_fraud['Category'] , df_fraud['percent_grp'], color=(0.2, 0.4, 0.6, 0.6),  \n",
    "        width = 0.4)\n",
    "\n",
    "plt.show()"
   ]
  },
  {
   "cell_type": "code",
   "execution_count": null,
   "id": "6c982fe4",
   "metadata": {},
   "outputs": [],
   "source": []
  },
  {
   "cell_type": "code",
   "execution_count": 39,
   "id": "92103246",
   "metadata": {},
   "outputs": [],
   "source": [
    "cols = ['_c0', 'age', 'trans_date_trans_time', 'cc_num', 'merchant', 'first', 'last', 'street', 'city', \\\n",
    "        'zip', 'job', 'dob', 'state','unix_time', 'trans_num','lat', 'long','month_year', 'trans_date', 'merch_lat', 'merch_long']\n",
    "preprocessed_data = new_df.drop(*cols)"
   ]
  },
  {
   "cell_type": "code",
   "execution_count": 40,
   "id": "9ea86b55",
   "metadata": {},
   "outputs": [],
   "source": [
    "# checking correlation between numerical features\n",
    "\n",
    "from pyspark.ml.stat import Correlation\n",
    "from pyspark.ml.feature import VectorAssembler\n",
    "\n",
    "numeric_features = [t[0] for t in preprocessed_data.dtypes if t[1] != 'string']\n",
    "numeric_features_df = preprocessed_data.select(numeric_features)\n",
    "\n",
    "# convert to vector column first\n",
    "vector_col = \"corr_features\"\n",
    "assembler = VectorAssembler(inputCols=numeric_features_df.columns, outputCol=vector_col)\n",
    "df_vector = assembler.transform(numeric_features_df).select(vector_col)\n",
    "\n",
    "# Generating Correlation Matrix\n",
    "matrix = Correlation.corr(df_vector, vector_col).collect()[0][0]\n",
    "corrmatrix = matrix.toArray().tolist()"
   ]
  },
  {
   "cell_type": "code",
   "execution_count": 41,
   "id": "79241f67",
   "metadata": {},
   "outputs": [
    {
     "data": {
      "image/png": "[encoded data removed]",
      "text/plain": [
       "<Figure size 1080x576 with 2 Axes>"
      ]
     },
     "metadata": {
      "needs_background": "light"
     },
     "output_type": "display_data"
    }
   ],
   "source": [
    "import seaborn as sns\n",
    "plt.figure(figsize = (15,8))\n",
    "ax = sns.heatmap(\n",
    "    corrmatrix, \n",
    "    vmin=-1, vmax=1, center=0,\n",
    "    cmap=sns.diverging_palette(20, 220, n=200),\n",
    "    square=True\n",
    ")\n",
    "ax.set_title(\"Correlation Matrix for Numeric Features\\n\")\n",
    "ax.set_xticklabels(\n",
    "    numeric_features_df.columns,\n",
    "    rotation=90,\n",
    "    horizontalalignment='right'\n",
    ");\n",
    "ax.set_yticklabels(numeric_features_df.columns,\n",
    "    rotation=0,\n",
    "    horizontalalignment='right'\n",
    ");\n",
    "plt.show()"
   ]
  },
  {
   "cell_type": "code",
   "execution_count": 42,
   "id": "d0a6edf0",
   "metadata": {},
   "outputs": [],
   "source": [
    "#spark.createDataFrame(corrmatrix,numeric_features_df.columns).toPandas()"
   ]
  },
  {
   "cell_type": "markdown",
   "id": "a0a0fc74",
   "metadata": {},
   "source": [
    "# One-hot encoding and VectorAssembler"
   ]
  },
  {
   "cell_type": "code",
   "execution_count": 43,
   "id": "5d2cd668",
   "metadata": {
    "scrolled": true
   },
   "outputs": [
    {
     "name": "stdout",
     "output_type": "stream",
     "text": [
      "+--------+-------+\n",
      "|is_fraud|  count|\n",
      "+--------+-------+\n",
      "|       1|   9651|\n",
      "|       0|1842743|\n",
      "+--------+-------+\n",
      "\n"
     ]
    }
   ],
   "source": [
    "# Count of fraud transactions and non-fraud transactions\n",
    "preprocessed_data.groupBy('is_fraud').count().show()"
   ]
  },
  {
   "cell_type": "markdown",
   "id": "ae8a4287",
   "metadata": {},
   "source": [
    "Tried different approach for using String Indexer, One Hot encoder and vector assembler as follows:"
   ]
  },
  {
   "cell_type": "code",
   "execution_count": 44,
   "id": "2e9f28da",
   "metadata": {},
   "outputs": [],
   "source": [
    "from pyspark.ml.feature import OneHotEncoder, StringIndexer, VectorAssembler\n",
    "\n",
    "def transformColumnsToNumeric(df, inputCol):\n",
    "    \n",
    "    #apply StringIndexer to inputCol\n",
    "    inputCol_indexer = StringIndexer(inputCol = inputCol, outputCol = inputCol + \"-index\").fit(df)\n",
    "    df = inputCol_indexer.transform(df)\n",
    "    \n",
    "    onehotencoder_vector = OneHotEncoder(inputCol = inputCol + \"-index\", outputCol = inputCol + \"-vector\")\n",
    "    df = onehotencoder_vector.fit(df).transform(df)\n",
    "    \n",
    "    return df\n",
    "    \n",
    "    pass"
   ]
  },
  {
   "cell_type": "code",
   "execution_count": 45,
   "id": "fcb5a6ed",
   "metadata": {},
   "outputs": [],
   "source": [
    "df = transformColumnsToNumeric(preprocessed_data, \"category\")\n",
    "df = transformColumnsToNumeric(df, \"gender\")\n",
    "df = transformColumnsToNumeric(df, \"age_udf_cat\")\n",
    "df = transformColumnsToNumeric(df, \"day_of_week\")"
   ]
  },
  {
   "cell_type": "code",
   "execution_count": 46,
   "id": "a8f35f31",
   "metadata": {},
   "outputs": [],
   "source": [
    "from pyspark.ml.feature import VectorAssembler\n",
    "\n",
    "cols = [\n",
    " 'amt',\n",
    " 'city_pop',\n",
    " 'hour_of_transaction',\n",
    " 'distance',\n",
    " 'rolling_24h_avg_amt',\n",
    " 'rolling_1_week_avg_amt',\n",
    " 'rolling_1month_avg_amt',\n",
    " 'number_trans_24h',\n",
    " 'number_trans_specific_day',\n",
    " 'number_trans_month',\n",
    " 'weekly_avg_amt_over_3_months',\n",
    " 'category-vector',\n",
    " 'gender-vector',\n",
    " 'age_udf_cat-vector',   \n",
    " 'day_of_week-vector']\n",
    "\n",
    "vectorAssembler = VectorAssembler().setInputCols(cols).setOutputCol('finalfeatures')\n",
    "df = vectorAssembler.transform(df)"
   ]
  },
  {
   "cell_type": "code",
   "execution_count": 47,
   "id": "4d8449bd",
   "metadata": {},
   "outputs": [],
   "source": [
    "# creating train test set\n",
    "train, validate, test = df.randomSplit([0.6, 0.3, 0.1])"
   ]
  },
  {
   "cell_type": "code",
   "execution_count": 48,
   "id": "5166aa9c",
   "metadata": {
    "scrolled": true
   },
   "outputs": [
    {
     "name": "stdout",
     "output_type": "stream",
     "text": [
      "+--------+-------+\n",
      "|is_fraud|  count|\n",
      "+--------+-------+\n",
      "|       1|   5755|\n",
      "|       0|1106434|\n",
      "+--------+-------+\n",
      "\n"
     ]
    }
   ],
   "source": [
    "train.groupBy('is_fraud').count().show()"
   ]
  },
  {
   "cell_type": "code",
   "execution_count": 49,
   "id": "98687646",
   "metadata": {},
   "outputs": [
    {
     "name": "stdout",
     "output_type": "stream",
     "text": [
      "+--------+------+\n",
      "|is_fraud| count|\n",
      "+--------+------+\n",
      "|       1|  2945|\n",
      "|       0|552489|\n",
      "+--------+------+\n",
      "\n"
     ]
    }
   ],
   "source": [
    "validate.groupBy('is_fraud').count().show()"
   ]
  },
  {
   "cell_type": "code",
   "execution_count": 50,
   "id": "87822862",
   "metadata": {},
   "outputs": [
    {
     "name": "stdout",
     "output_type": "stream",
     "text": [
      "+--------+------+\n",
      "|is_fraud| count|\n",
      "+--------+------+\n",
      "|       1|   951|\n",
      "|       0|183820|\n",
      "+--------+------+\n",
      "\n"
     ]
    }
   ],
   "source": [
    "test.groupBy('is_fraud').count().show()"
   ]
  },
  {
   "cell_type": "markdown",
   "id": "d6e817f2",
   "metadata": {},
   "source": [
    "# Logistic Regression"
   ]
  },
  {
   "cell_type": "markdown",
   "id": "db96b1b3",
   "metadata": {},
   "source": [
    "##  Model training with 3 different parameters"
   ]
  },
  {
   "cell_type": "code",
   "execution_count": 53,
   "id": "a8495926",
   "metadata": {},
   "outputs": [
    {
     "name": "stdout",
     "output_type": "stream",
     "text": [
      "Area under PR curve for Logistic Regression with no regularization: 0.5432947036051969\n",
      "Area under ROC curve for Logistic Regression with no regularization: 0.9590660126103625\n",
      "\n",
      "Area under PR curve for Logistic Regression with L1 regularization: 0.44765211651665493\n",
      "Area under ROC curve for Logistic Regression with L1 regularization: 0.9874267035549548\n",
      "\n",
      "Area under PR curve for Logistic Regression with L2 regularization: 0.5430387755959999\n",
      "Area under ROC curve for Logistic Regression with L2 regularization: 0.9590663116122362\n"
     ]
    }
   ],
   "source": [
    "from pyspark.ml.classification import LogisticRegression\n",
    "from pyspark.ml import feature, classification\n",
    "\n",
    "# default parameters, regParam = 0.0, elasticNetParam = 0.0\n",
    "lr = LogisticRegression(featuresCol='finalfeatures', labelCol='is_fraud')\n",
    "lr_model = lr.fit(train)\n",
    "validations_lr = lr_model.transform(validate)\n",
    "\n",
    "# Lasso (L1) Regularization, regParam = 0.5, elasticNetParam = 0.0\n",
    "lr_lasso = LogisticRegression(featuresCol='finalfeatures', labelCol='is_fraud', regParam=0.5)\n",
    "lr_lasso_model = lr_lasso.fit(train)\n",
    "validations_lr_lasso = lr_lasso_model.transform(validate)\n",
    "\n",
    "# Ridge (L2) Regularization, regParam = 0.0, elasticNetParam = 0.5\n",
    "lr_ridge = LogisticRegression(featuresCol='finalfeatures', labelCol='is_fraud', elasticNetParam=1.0)\n",
    "lr_ridge_model = lr_ridge.fit(train)\n",
    "validations_lr_ridge = lr_ridge_model.transform(validate)\n",
    "\n",
    "\n",
    "# Defining the evaluator to find out the best cross validated model\n",
    "\n",
    "from pyspark.ml.evaluation import BinaryClassificationEvaluator\n",
    "\n",
    "# Area under PR curve (main focus since this is imbalanced dataset)\n",
    "bce_pr = BinaryClassificationEvaluator(labelCol = 'is_fraud', metricName='areaUnderPR')\n",
    "\n",
    "# Area under ROC\n",
    "bce_roc = BinaryClassificationEvaluator(labelCol = 'is_fraud')\n",
    "\n",
    "print('Area under PR curve for Logistic Regression with no regularization: {0}'.format(bce_pr.evaluate(validations_lr)))\n",
    "print('Area under ROC curve for Logistic Regression with no regularization: {0}'.format(bce_roc.evaluate(validations_lr)))\n",
    "print('')\n",
    "\n",
    "print('Area under PR curve for Logistic Regression with L1 regularization: {0}'.format(bce_pr.evaluate(validations_lr_lasso)))\n",
    "print('Area under ROC curve for Logistic Regression with L1 regularization: {0}'.format(bce_roc.evaluate(validations_lr_lasso)))\n",
    "print('')\n",
    "\n",
    "print('Area under PR curve for Logistic Regression with L2 regularization: {0}'.format(bce_pr.evaluate(validations_lr_ridge)))\n",
    "print('Area under ROC curve for Logistic Regression with L2 regularization: {0}'.format(bce_roc.evaluate(validations_lr_ridge)))"
   ]
  },
  {
   "cell_type": "markdown",
   "id": "7cbb9758",
   "metadata": {},
   "source": [
    "##  Estimating generalization performance for no regularization model\n"
   ]
  },
  {
   "cell_type": "code",
   "execution_count": 54,
   "id": "df5d987f",
   "metadata": {},
   "outputs": [],
   "source": [
    "\n",
    "predictions_lr = lr_model.transform(test)\n",
    "\n",
    "from pyspark.sql.types import FloatType\n",
    "from pyspark.mllib.evaluation import MulticlassMetrics\n",
    "\n",
    "#select only prediction and label columns\n",
    "preds_and_labels_lr = predictions_lr.select(['prediction','is_fraud']).\\\n",
    "                                withColumn('is_fraud', func.col('is_fraud').cast(FloatType())).orderBy('prediction')"
   ]
  },
  {
   "cell_type": "markdown",
   "id": "03c85b58",
   "metadata": {},
   "source": [
    "### Confusion Matrix"
   ]
  },
  {
   "cell_type": "code",
   "execution_count": 55,
   "id": "0426013f",
   "metadata": {},
   "outputs": [
    {
     "data": {
      "text/plain": [
       "array([[1.83677e+05, 1.43000e+02],\n",
       "       [5.73000e+02, 3.78000e+02]])"
      ]
     },
     "execution_count": 55,
     "metadata": {},
     "output_type": "execute_result"
    }
   ],
   "source": [
    "confusion_matrix_lr = MulticlassMetrics(preds_and_labels_lr.rdd.map(tuple)).confusionMatrix().toArray()\n",
    "confusion_matrix_lr"
   ]
  },
  {
   "cell_type": "code",
   "execution_count": 56,
   "id": "879ce5d5",
   "metadata": {},
   "outputs": [],
   "source": [
    "# function to plot confusion matrix. Necessary to execute next cell\n",
    "\n",
    "class_names=[1.0,0.0]\n",
    "import itertools\n",
    "def plot_confusion_matrix(cm, classes,\n",
    "                          normalize=False,\n",
    "                          title='Confusion matrix',\n",
    "                          cmap=plt.cm.Blues):\n",
    "    \"\"\"\n",
    "    This function prints and plots the confusion matrix.\n",
    "    Normalization can be applied by setting `normalize=True`.\n",
    "    \"\"\"\n",
    "    if normalize:\n",
    "        cm = cm.astype('float') / cm.sum(axis=1)[:, np.newaxis]\n",
    "        print(\"Normalized confusion matrix\")\n",
    "    else:\n",
    "        print('Confusion matrix, without normalization')\n",
    "\n",
    "    print(cm)\n",
    "\n",
    "    plt.imshow(cm, interpolation='nearest', cmap=cmap)\n",
    "    plt.title(title)\n",
    "    plt.colorbar()\n",
    "    tick_marks = np.arange(len(classes))\n",
    "    plt.xticks(tick_marks, classes, rotation=45)\n",
    "    plt.yticks(tick_marks, classes)\n",
    "\n",
    "    fmt = '.2f' if normalize else 'd'\n",
    "    thresh = cm.max() / 2.\n",
    "    for i, j in itertools.product(range(cm.shape[0]), range(cm.shape[1])):\n",
    "        plt.text(j, i, format(cm[i, j], fmt),\n",
    "                 horizontalalignment=\"center\",\n",
    "                 color=\"white\" if cm[i, j] > thresh else \"black\")\n",
    "\n",
    "    plt.tight_layout()\n",
    "    plt.ylabel('True label')\n",
    "    plt.xlabel('Predicted label')"
   ]
  },
  {
   "cell_type": "code",
   "execution_count": 57,
   "id": "fbcc19f8",
   "metadata": {},
   "outputs": [
    {
     "name": "stdout",
     "output_type": "stream",
     "text": [
      "Confusion matrix, without normalization\n",
      "[[   378    573]\n",
      " [   143 183677]]\n"
     ]
    },
    {
     "data": {
      "image/png": "[encoded data removed]",
      "text/plain": [
       "<Figure size 432x288 with 2 Axes>"
      ]
     },
     "metadata": {
      "needs_background": "light"
     },
     "output_type": "display_data"
    }
   ],
   "source": [
    "from sklearn.metrics import confusion_matrix\n",
    "\n",
    "class_names=[1.0,0.0]\n",
    "\n",
    "y_true_lr = predictions_lr.select(\"is_fraud\")\n",
    "y_true_lr = y_true_lr.toPandas()\n",
    "\n",
    "y_pred_lr = predictions_lr.select(\"prediction\")\n",
    "y_pred_lr = y_pred_lr.toPandas()\n",
    "\n",
    "cnf_matrix = confusion_matrix(y_true_lr, y_pred_lr,labels=class_names)\n",
    "#cnf_matrix\n",
    "plt.figure()\n",
    "plot_confusion_matrix(cnf_matrix, classes=class_names,\n",
    "                      title='Confusion matrix for Logistic Regression with No Regularization')\n",
    "plt.show()"
   ]
  },
  {
   "cell_type": "markdown",
   "id": "b672f862",
   "metadata": {},
   "source": [
    "### Precision, Recall and F1 Score"
   ]
  },
  {
   "cell_type": "code",
   "execution_count": 45,
   "id": "45654067",
   "metadata": {},
   "outputs": [
    {
     "name": "stdout",
     "output_type": "stream",
     "text": [
      "Precision:  0.759765625\n",
      "recall:  0.37367915465898177\n",
      "f1_score:  0.5009658725048294\n"
     ]
    }
   ],
   "source": [
    "precision_lr = confusion_matrix_lr[1,1]/np.add(confusion_matrix_lr[0,1], confusion_matrix_lr[1,1])\n",
    "print(\"Precision: \",precision_lr)\n",
    "recall_lr = confusion_matrix_lr[1,1]/np.add(confusion_matrix_lr[1,0], confusion_matrix_lr[1,1])\n",
    "print(\"recall: \",recall_lr)\n",
    "f1_score_lr = 2*(precision_lr*recall_lr)/(precision_lr+recall_lr)\n",
    "print(\"f1_score: \",f1_score_lr)"
   ]
  },
  {
   "cell_type": "markdown",
   "id": "b069eebe",
   "metadata": {},
   "source": [
    "### Area under ROC Curve and Precision-Recall Curve"
   ]
  },
  {
   "cell_type": "code",
   "execution_count": 58,
   "id": "0ff5ea01",
   "metadata": {},
   "outputs": [
    {
     "name": "stdout",
     "output_type": "stream",
     "text": [
      "Area under ROC Curve for test data: 0.9602\n",
      "Area under PR Curve for test data: 0.5379\n"
     ]
    }
   ],
   "source": [
    "from pyspark.ml.evaluation import BinaryClassificationEvaluator\n",
    "\n",
    "# Let's use the run-of-the-mill evaluator\n",
    "evaluator = BinaryClassificationEvaluator(labelCol='is_fraud')\n",
    "\n",
    "# We have only two choices: area under ROC and PR curves :-(\n",
    "auroc_lr = evaluator.evaluate(predictions_lr, {evaluator.metricName: \"areaUnderROC\"})\n",
    "auprc_lr = evaluator.evaluate(predictions_lr, {evaluator.metricName: \"areaUnderPR\"})\n",
    "print(\"Area under ROC Curve for test data: {:.4f}\".format(auroc_lr))\n",
    "print(\"Area under PR Curve for test data: {:.4f}\".format(auprc_lr))"
   ]
  },
  {
   "cell_type": "markdown",
   "id": "35ef8909",
   "metadata": {},
   "source": [
    "### Using handyspark package to draw curves"
   ]
  },
  {
   "cell_type": "code",
   "execution_count": 59,
   "id": "d5ff3353",
   "metadata": {},
   "outputs": [
    {
     "name": "stdout",
     "output_type": "stream",
     "text": [
      "\u001b[33mWARNING: Value for scheme.headers does not match. Please report this to <https://github.com/pypa/pip/issues/9617>\n",
      "distutils: /opt/conda/include/python3.8/UNKNOWN\n",
      "sysconfig: /opt/conda/include/python3.8\u001b[0m\n",
      "\u001b[33mWARNING: Additional context:\n",
      "user = False\n",
      "home = None\n",
      "root = None\n",
      "prefix = None\u001b[0m\n",
      "Collecting handyspark\n",
      "  Downloading handyspark-0.2.2a1-py2.py3-none-any.whl (39 kB)\n",
      "Collecting pyarrow\n",
      "  Downloading pyarrow-6.0.1-cp38-cp38-manylinux_2_17_x86_64.manylinux2014_x86_64.whl (25.6 MB)\n",
      "\u001b[K     |████████████████████████████████| 25.6 MB 9.7 MB/s eta 0:00:01\n",
      "\u001b[?25hRequirement already satisfied: scipy in /opt/conda/lib/python3.8/site-packages (from handyspark) (1.6.2)\n",
      "Requirement already satisfied: findspark in /opt/conda/lib/python3.8/site-packages (from handyspark) (1.4.2)\n",
      "Requirement already satisfied: pandas in /opt/conda/lib/python3.8/site-packages (from handyspark) (1.2.4)\n",
      "Requirement already satisfied: pyspark in /opt/conda/lib/python3.8/site-packages (from handyspark) (3.1.2)\n",
      "Requirement already satisfied: scikit-learn in /opt/conda/lib/python3.8/site-packages (from handyspark) (0.24.1)\n",
      "Requirement already satisfied: seaborn in /opt/conda/lib/python3.8/site-packages (from handyspark) (0.11.1)\n",
      "Requirement already satisfied: numpy in /opt/conda/lib/python3.8/site-packages (from handyspark) (1.19.5)\n",
      "Requirement already satisfied: matplotlib in /opt/conda/lib/python3.8/site-packages (from handyspark) (3.3.4)\n",
      "Requirement already satisfied: kiwisolver>=1.0.1 in /opt/conda/lib/python3.8/site-packages (from matplotlib->handyspark) (1.3.1)\n",
      "Requirement already satisfied: cycler>=0.10 in /opt/conda/lib/python3.8/site-packages (from matplotlib->handyspark) (0.10.0)\n",
      "Requirement already satisfied: python-dateutil>=2.1 in /opt/conda/lib/python3.8/site-packages (from matplotlib->handyspark) (2.8.1)\n",
      "Requirement already satisfied: pyparsing!=2.0.4,!=2.1.2,!=2.1.6,>=2.0.3 in /opt/conda/lib/python3.8/site-packages (from matplotlib->handyspark) (2.4.7)\n",
      "Requirement already satisfied: pillow>=6.2.0 in /opt/conda/lib/python3.8/site-packages (from matplotlib->handyspark) (8.1.2)\n",
      "Requirement already satisfied: six in /opt/conda/lib/python3.8/site-packages (from cycler>=0.10->matplotlib->handyspark) (1.15.0)\n",
      "Requirement already satisfied: pytz>=2017.3 in /opt/conda/lib/python3.8/site-packages (from pandas->handyspark) (2021.1)\n",
      "Requirement already satisfied: py4j==0.10.9 in /opt/conda/lib/python3.8/site-packages (from pyspark->handyspark) (0.10.9)\n",
      "Requirement already satisfied: joblib>=0.11 in /opt/conda/lib/python3.8/site-packages (from scikit-learn->handyspark) (1.0.1)\n",
      "Requirement already satisfied: threadpoolctl>=2.0.0 in /opt/conda/lib/python3.8/site-packages (from scikit-learn->handyspark) (2.1.0)\n",
      "Installing collected packages: pyarrow, handyspark\n",
      "\u001b[33mWARNING: Value for scheme.headers does not match. Please report this to <https://github.com/pypa/pip/issues/9617>\n",
      "distutils: /opt/conda/include/python3.8/UNKNOWN\n",
      "sysconfig: /opt/conda/include/python3.8\u001b[0m\n",
      "\u001b[33mWARNING: Additional context:\n",
      "user = False\n",
      "home = None\n",
      "root = None\n",
      "prefix = None\u001b[0m\n",
      "Successfully installed handyspark-0.2.2a1 pyarrow-6.0.1\n"
     ]
    }
   ],
   "source": [
    "!pip install handyspark"
   ]
  },
  {
   "cell_type": "code",
   "execution_count": 60,
   "id": "b6e10422",
   "metadata": {},
   "outputs": [
    {
     "data": {
      "text/plain": [
       "<AxesSubplot:title={'center':'Precision-Recall Curve'}, xlabel='Recall', ylabel='Precision'>"
      ]
     },
     "execution_count": 60,
     "metadata": {},
     "output_type": "execute_result"
    },
    {
     "data": {
      "image/png": "[encoded data removed]",
      "text/plain": [
       "<Figure size 864x288 with 2 Axes>"
      ]
     },
     "metadata": {
      "needs_background": "light"
     },
     "output_type": "display_data"
    }
   ],
   "source": [
    "# !pip install handyspark\n",
    "from handyspark import *\n",
    "# Creates instance of extended version of BinaryClassificationMetrics\n",
    "# using a DataFrame and its probability and label columns, as the output\n",
    "# from the classifier\n",
    "bcm = BinaryClassificationMetrics(predictions_lr, scoreCol='probability', labelCol='is_fraud')\n",
    "\n",
    "# But now we can PLOT both ROC and PR curves!\n",
    "fig, axs = plt.subplots(1, 2, figsize=(12, 4))\n",
    "bcm.plot_roc_curve(ax=axs[0])\n",
    "bcm.plot_pr_curve(ax=axs[1])\n",
    "\n",
    "# We can also get all metrics (FPR, Recall and Precision) by threshold\n",
    "#bcm.getMetricsByThreshold().filter('fpr between 0.19 and 0.21').toPandas()\n",
    "\n",
    "# And get the confusion matrix for any threshold we want\n",
    "#bcm.print_confusion_matrix(.415856)"
   ]
  },
  {
   "cell_type": "markdown",
   "id": "2cdf1905",
   "metadata": {},
   "source": [
    "### Hyperparameter tuning to find the best lr model. Parameters: regParam = [0.01, 0.1, 0.5], elasticNetParam = [0.01, 0.1, 0.5]\n"
   ]
  },
  {
   "cell_type": "code",
   "execution_count": null,
   "id": "c0802cc9",
   "metadata": {},
   "outputs": [],
   "source": [
    "from pyspark.ml.tuning import ParamGridBuilder, CrossValidator\n",
    "\n",
    "train_cv, hold_out_test_cv = df.randomSplit([0.9, 0.1])\n",
    "\n",
    "lr = LogisticRegression(labelCol=\"is_fraud\", featuresCol=\"finalfeatures\", maxIter=100)\n",
    "\n",
    "paramGrid = ParamGridBuilder()\\\n",
    "    .addGrid(lr.regParam,[0.0, 0.1, 1.0])\\\n",
    "    .addGrid(lr.elasticNetParam,[0.0, 0.1, 1.0])\\\n",
    "    .build()\n",
    "\n",
    "# Create 5-fold CrossValidator\n",
    "lr_cvEstimator = CrossValidator(estimator=lr, estimatorParamMaps=paramGrid, \\\n",
    "                              evaluator=BinaryClassificationEvaluator(metricName='areaUnderPR', labelCol='is_fraud'),\\\n",
    "                              numFolds=3, seed = 101)\n",
    "\n",
    "# Run cross validations\n",
    "lr_cvModel = lr_cvEstimator.fit(train_cv)"
   ]
  },
  {
   "cell_type": "code",
   "execution_count": 128,
   "id": "00e28e62",
   "metadata": {},
   "outputs": [
    {
     "ename": "NameError",
     "evalue": "name 'lr_cvModel' is not defined",
     "output_type": "error",
     "traceback": [
      "\u001b[0;31m---------------------------------------------------------------------------\u001b[0m",
      "\u001b[0;31mNameError\u001b[0m                                 Traceback (most recent call last)",
      "\u001b[0;32m<ipython-input-128-99d925e6d3ec>\u001b[0m in \u001b[0;36m<module>\u001b[0;34m\u001b[0m\n\u001b[0;32m----> 1\u001b[0;31m \u001b[0mlr_cvModel\u001b[0m\u001b[0;34m.\u001b[0m\u001b[0mgetEstimatorParamMaps\u001b[0m\u001b[0;34m(\u001b[0m\u001b[0;34m)\u001b[0m\u001b[0;34m[\u001b[0m\u001b[0mnp\u001b[0m\u001b[0;34m.\u001b[0m\u001b[0margmax\u001b[0m\u001b[0;34m(\u001b[0m\u001b[0mlr_cvModel\u001b[0m\u001b[0;34m.\u001b[0m\u001b[0mavgMetrics\u001b[0m\u001b[0;34m)\u001b[0m\u001b[0;34m]\u001b[0m\u001b[0;34m\u001b[0m\u001b[0;34m\u001b[0m\u001b[0m\n\u001b[0m",
      "\u001b[0;31mNameError\u001b[0m: name 'lr_cvModel' is not defined"
     ]
    }
   ],
   "source": [
    "lr_cvModel.getEstimatorParamMaps()[np.argmax(lr_cvModel.avgMetrics)]"
   ]
  },
  {
   "cell_type": "code",
   "execution_count": 45,
   "id": "82f8ada0",
   "metadata": {},
   "outputs": [],
   "source": [
    "best_lrModel = lr.setElasticNetParam(0.01).setRegParam(0.1).fit(train_cv)"
   ]
  },
  {
   "cell_type": "code",
   "execution_count": 47,
   "id": "abdecc4c",
   "metadata": {},
   "outputs": [],
   "source": [
    "best_lrPredictions = best_lrModel.transform(hold_out_test_cv)\n",
    "best_predsAndLabels_lr = best_lrPredictions.select(['prediction','is_fraud']).\\\n",
    "                                withColumn('is_fraud', func.col('is_fraud').cast(FloatType())).orderBy('prediction')"
   ]
  },
  {
   "cell_type": "code",
   "execution_count": 48,
   "id": "6a805bda",
   "metadata": {},
   "outputs": [
    {
     "name": "stdout",
     "output_type": "stream",
     "text": [
      "Precision:  0.7263779527559056\n",
      "recall:  0.38801261829652994\n",
      "f1_score:  0.07449856733524356\n"
     ]
    }
   ],
   "source": [
    "# Precision, Recall and F1 Score\n",
    "\n",
    "best_confusionMatrix_lr = MulticlassMetrics(best_predsAndLabels_lr.rdd.map(tuple)).confusionMatrix().toArray()\n",
    "precision_lrBest = best_confusionMatrix_lr[1,1]/np.add(best_confusionMatrix_lr[0,1], best_confusionMatrix_lr[1,1])\n",
    "print(\"Precision: \",precision_lr)\n",
    "recall_lrBest = best_confusionMatrix_lr[1,1]/np.add(best_confusionMatrix_lr[1,0], best_confusionMatrix_lr[1,1])\n",
    "print(\"recall: \",recall_lr)\n",
    "f1_score_lr = 2*(precision_lrBest*recall_lrBest)/(precision_lrBest+recall_lrBest)\n",
    "print(\"f1_score: \",f1_score_lr)"
   ]
  },
  {
   "cell_type": "code",
   "execution_count": 127,
   "id": "80336263",
   "metadata": {},
   "outputs": [
    {
     "ename": "NameError",
     "evalue": "name 'best_lrPredictions' is not defined",
     "output_type": "error",
     "traceback": [
      "\u001b[0;31m---------------------------------------------------------------------------\u001b[0m",
      "\u001b[0;31mNameError\u001b[0m                                 Traceback (most recent call last)",
      "\u001b[0;32m<ipython-input-127-0e5bf3afe7ca>\u001b[0m in \u001b[0;36m<module>\u001b[0;34m\u001b[0m\n\u001b[0;32m----> 1\u001b[0;31m \u001b[0mauroc_lrReg\u001b[0m \u001b[0;34m=\u001b[0m \u001b[0mevaluator\u001b[0m\u001b[0;34m.\u001b[0m\u001b[0mevaluate\u001b[0m\u001b[0;34m(\u001b[0m\u001b[0mbest_lrPredictions\u001b[0m\u001b[0;34m,\u001b[0m \u001b[0;34m{\u001b[0m\u001b[0mevaluator\u001b[0m\u001b[0;34m.\u001b[0m\u001b[0mmetricName\u001b[0m\u001b[0;34m:\u001b[0m \u001b[0;34m\"areaUnderROC\"\u001b[0m\u001b[0;34m}\u001b[0m\u001b[0;34m)\u001b[0m\u001b[0;34m\u001b[0m\u001b[0;34m\u001b[0m\u001b[0m\n\u001b[0m\u001b[1;32m      2\u001b[0m \u001b[0mauprc_lrReg\u001b[0m \u001b[0;34m=\u001b[0m \u001b[0mevaluator\u001b[0m\u001b[0;34m.\u001b[0m\u001b[0mevaluate\u001b[0m\u001b[0;34m(\u001b[0m\u001b[0mbest_lrPredictions\u001b[0m\u001b[0;34m,\u001b[0m \u001b[0;34m{\u001b[0m\u001b[0mevaluator\u001b[0m\u001b[0;34m.\u001b[0m\u001b[0mmetricName\u001b[0m\u001b[0;34m:\u001b[0m \u001b[0;34m\"areaUnderPR\"\u001b[0m\u001b[0;34m}\u001b[0m\u001b[0;34m)\u001b[0m\u001b[0;34m\u001b[0m\u001b[0;34m\u001b[0m\u001b[0m\n\u001b[1;32m      3\u001b[0m \u001b[0mprint\u001b[0m\u001b[0;34m(\u001b[0m\u001b[0;34m\"Area under ROC Curve for test data: {:.4f}\"\u001b[0m\u001b[0;34m.\u001b[0m\u001b[0mformat\u001b[0m\u001b[0;34m(\u001b[0m\u001b[0mauroc_lrReg\u001b[0m\u001b[0;34m)\u001b[0m\u001b[0;34m)\u001b[0m\u001b[0;34m\u001b[0m\u001b[0;34m\u001b[0m\u001b[0m\n\u001b[1;32m      4\u001b[0m \u001b[0mprint\u001b[0m\u001b[0;34m(\u001b[0m\u001b[0;34m\"Area under PR Curve for test data: {:.4f}\"\u001b[0m\u001b[0;34m.\u001b[0m\u001b[0mformat\u001b[0m\u001b[0;34m(\u001b[0m\u001b[0mauprc_lrReg\u001b[0m\u001b[0;34m)\u001b[0m\u001b[0;34m)\u001b[0m\u001b[0;34m\u001b[0m\u001b[0;34m\u001b[0m\u001b[0m\n",
      "\u001b[0;31mNameError\u001b[0m: name 'best_lrPredictions' is not defined"
     ]
    }
   ],
   "source": [
    "auroc_lrReg = evaluator.evaluate(best_lrPredictions, {evaluator.metricName: \"areaUnderROC\"})\n",
    "auprc_lrReg = evaluator.evaluate(best_lrPredictions, {evaluator.metricName: \"areaUnderPR\"})\n",
    "print(\"Area under ROC Curve for test data: {:.4f}\".format(auroc_lrReg))\n",
    "print(\"Area under PR Curve for test data: {:.4f}\".format(auprc_lrReg))"
   ]
  },
  {
   "cell_type": "markdown",
   "id": "2eebe238",
   "metadata": {},
   "source": [
    "So, cross validation and hyperparameter tuning didn't give us better results."
   ]
  },
  {
   "cell_type": "code",
   "execution_count": null,
   "id": "03ae6ea2",
   "metadata": {},
   "outputs": [],
   "source": []
  },
  {
   "cell_type": "code",
   "execution_count": null,
   "id": "98367199",
   "metadata": {},
   "outputs": [],
   "source": []
  },
  {
   "cell_type": "code",
   "execution_count": null,
   "id": "412b1834",
   "metadata": {},
   "outputs": [],
   "source": []
  },
  {
   "cell_type": "markdown",
   "id": "a71ddb64",
   "metadata": {},
   "source": [
    "# Random Forest"
   ]
  },
  {
   "cell_type": "code",
   "execution_count": 106,
   "id": "3487f120",
   "metadata": {},
   "outputs": [],
   "source": [
    "from pyspark.ml import feature, classification\n",
    "\n",
    "# Default parameters\n",
    "rf_model = classification.RandomForestClassifier(featuresCol='finalfeatures', labelCol='is_fraud').\\\n",
    "    fit(train)"
   ]
  },
  {
   "cell_type": "code",
   "execution_count": 107,
   "id": "8422a2cd",
   "metadata": {},
   "outputs": [
    {
     "data": {
      "text/html": [
       "<div>\n",
       "<style scoped>\n",
       "    .dataframe tbody tr th:only-of-type {\n",
       "        vertical-align: middle;\n",
       "    }\n",
       "\n",
       "    .dataframe tbody tr th {\n",
       "        vertical-align: top;\n",
       "    }\n",
       "\n",
       "    .dataframe thead th {\n",
       "        text-align: right;\n",
       "    }\n",
       "</style>\n",
       "<table border=\"1\" class=\"dataframe\">\n",
       "  <thead>\n",
       "    <tr style=\"text-align: right;\">\n",
       "      <th></th>\n",
       "      <th>feature</th>\n",
       "      <th>importance</th>\n",
       "    </tr>\n",
       "  </thead>\n",
       "  <tbody>\n",
       "    <tr>\n",
       "      <th>5</th>\n",
       "      <td>rolling_24h_avg_amt</td>\n",
       "      <td>0.267068</td>\n",
       "    </tr>\n",
       "    <tr>\n",
       "      <th>4</th>\n",
       "      <td>distance</td>\n",
       "      <td>0.241606</td>\n",
       "    </tr>\n",
       "    <tr>\n",
       "      <th>0</th>\n",
       "      <td>amt</td>\n",
       "      <td>0.156911</td>\n",
       "    </tr>\n",
       "    <tr>\n",
       "      <th>2</th>\n",
       "      <td>is_fraud</td>\n",
       "      <td>0.095337</td>\n",
       "    </tr>\n",
       "    <tr>\n",
       "      <th>6</th>\n",
       "      <td>rolling_1_week_avg_amt</td>\n",
       "      <td>0.091684</td>\n",
       "    </tr>\n",
       "    <tr>\n",
       "      <th>7</th>\n",
       "      <td>rolling_1month_avg_amt</td>\n",
       "      <td>0.056856</td>\n",
       "    </tr>\n",
       "    <tr>\n",
       "      <th>8</th>\n",
       "      <td>weekly_avg_amt_over_3_months</td>\n",
       "      <td>0.019832</td>\n",
       "    </tr>\n",
       "    <tr>\n",
       "      <th>9</th>\n",
       "      <td>category-vector</td>\n",
       "      <td>0.016881</td>\n",
       "    </tr>\n",
       "    <tr>\n",
       "      <th>12</th>\n",
       "      <td>day_of_week-vector</td>\n",
       "      <td>0.015103</td>\n",
       "    </tr>\n",
       "    <tr>\n",
       "      <th>10</th>\n",
       "      <td>gender-vector</td>\n",
       "      <td>0.007332</td>\n",
       "    </tr>\n",
       "    <tr>\n",
       "      <th>11</th>\n",
       "      <td>age_udf_cat-vector</td>\n",
       "      <td>0.004567</td>\n",
       "    </tr>\n",
       "    <tr>\n",
       "      <th>1</th>\n",
       "      <td>city_pop</td>\n",
       "      <td>0.000134</td>\n",
       "    </tr>\n",
       "    <tr>\n",
       "      <th>3</th>\n",
       "      <td>hour_of_transaction</td>\n",
       "      <td>0.000000</td>\n",
       "    </tr>\n",
       "  </tbody>\n",
       "</table>\n",
       "</div>"
      ],
      "text/plain": [
       "                         feature  importance\n",
       "5            rolling_24h_avg_amt    0.267068\n",
       "4                       distance    0.241606\n",
       "0                            amt    0.156911\n",
       "2                       is_fraud    0.095337\n",
       "6         rolling_1_week_avg_amt    0.091684\n",
       "7         rolling_1month_avg_amt    0.056856\n",
       "8   weekly_avg_amt_over_3_months    0.019832\n",
       "9                category-vector    0.016881\n",
       "12            day_of_week-vector    0.015103\n",
       "10                 gender-vector    0.007332\n",
       "11            age_udf_cat-vector    0.004567\n",
       "1                       city_pop    0.000134\n",
       "3            hour_of_transaction    0.000000"
      ]
     },
     "execution_count": 107,
     "metadata": {},
     "output_type": "execute_result"
    }
   ],
   "source": [
    "feature_importance = pd.DataFrame(list(zip(cols, rf_model.featureImportances.toArray())),\n",
    "            columns = ['feature', 'importance']).sort_values('importance', ascending=False)\n",
    "feature_importance"
   ]
  },
  {
   "cell_type": "code",
   "execution_count": 108,
   "id": "721600a3",
   "metadata": {},
   "outputs": [
    {
     "data": {
      "text/plain": [
       "0.8292072429111005"
      ]
     },
     "execution_count": 108,
     "metadata": {},
     "output_type": "execute_result"
    }
   ],
   "source": [
    "from pyspark.ml.evaluation import BinaryClassificationEvaluator\n",
    "bce = BinaryClassificationEvaluator(labelCol = 'is_fraud', metricName = 'areaUnderPR')\n",
    "\n",
    "# Finding out area under PR curve for validation dataset\n",
    "bce.evaluate(rf_model.transform(validate))"
   ]
  },
  {
   "cell_type": "markdown",
   "id": "2e0c99f7",
   "metadata": {},
   "source": [
    "## Estimating Generalization Performance"
   ]
  },
  {
   "cell_type": "code",
   "execution_count": 109,
   "id": "be4712bb",
   "metadata": {},
   "outputs": [],
   "source": [
    "from pyspark.sql.types import FloatType\n",
    "from pyspark.mllib.evaluation import MulticlassMetrics\n",
    "\n",
    "predictions_rf = rf_model.transform(test)\n",
    "\n",
    "#select only prediction and label columns\n",
    "preds_and_labels_rf = predictions_rf.select(['prediction','is_fraud']).withColumn('is_fraud', func.col('is_fraud').cast(FloatType())).orderBy('prediction')"
   ]
  },
  {
   "cell_type": "markdown",
   "id": "1a476582",
   "metadata": {},
   "source": [
    "### Confusion Matrix"
   ]
  },
  {
   "cell_type": "code",
   "execution_count": 110,
   "id": "dcd445bd",
   "metadata": {},
   "outputs": [
    {
     "data": {
      "text/plain": [
       "array([[1.84801e+05, 3.00000e+00],\n",
       "       [6.57000e+02, 3.84000e+02]])"
      ]
     },
     "execution_count": 110,
     "metadata": {},
     "output_type": "execute_result"
    }
   ],
   "source": [
    "confusion_matrix_rf = MulticlassMetrics(preds_and_labels_rf.rdd.map(tuple)).confusionMatrix().toArray()\n",
    "confusion_matrix_rf"
   ]
  },
  {
   "cell_type": "code",
   "execution_count": 111,
   "id": "95ae278b",
   "metadata": {},
   "outputs": [],
   "source": [
    "class_names=[1.0,0.0]\n",
    "import itertools\n",
    "def plot_confusion_matrix(cm, classes,\n",
    "                          normalize=False,\n",
    "                          title='Confusion matrix',\n",
    "                          cmap=plt.cm.Blues):\n",
    "    \"\"\"\n",
    "    This function prints and plots the confusion matrix.\n",
    "    Normalization can be applied by setting `normalize=True`.\n",
    "    \"\"\"\n",
    "    if normalize:\n",
    "        cm = cm.astype('float') / cm.sum(axis=1)[:, np.newaxis]\n",
    "        print(\"Normalized confusion matrix\")\n",
    "    else:\n",
    "        print('Confusion matrix, without normalization')\n",
    "\n",
    "    print(cm)\n",
    "\n",
    "    plt.imshow(cm, interpolation='nearest', cmap=cmap)\n",
    "    plt.title(title)\n",
    "    plt.colorbar()\n",
    "    tick_marks = np.arange(len(classes))\n",
    "    plt.xticks(tick_marks, classes, rotation=45)\n",
    "    plt.yticks(tick_marks, classes)\n",
    "\n",
    "    fmt = '.2f' if normalize else 'd'\n",
    "    thresh = cm.max() / 2.\n",
    "    for i, j in itertools.product(range(cm.shape[0]), range(cm.shape[1])):\n",
    "        plt.text(j, i, format(cm[i, j], fmt),\n",
    "                 horizontalalignment=\"center\",\n",
    "                 color=\"white\" if cm[i, j] > thresh else \"black\")\n",
    "\n",
    "    plt.tight_layout()\n",
    "    plt.ylabel('True label')\n",
    "    plt.xlabel('Predicted label')"
   ]
  },
  {
   "cell_type": "code",
   "execution_count": 112,
   "id": "b7f4a7ee",
   "metadata": {},
   "outputs": [
    {
     "name": "stdout",
     "output_type": "stream",
     "text": [
      "Confusion matrix, without normalization\n",
      "[[   384    657]\n",
      " [     3 184801]]\n"
     ]
    },
    {
     "data": {
      "image/png": "[encoded data removed]",
      "text/plain": [
       "<Figure size 432x288 with 2 Axes>"
      ]
     },
     "metadata": {
      "needs_background": "light"
     },
     "output_type": "display_data"
    }
   ],
   "source": [
    "from sklearn.metrics import confusion_matrix\n",
    "\n",
    "y_true_rf = predictions_rf.select(\"is_fraud\")\n",
    "y_true_rf = y_true_rf.toPandas()\n",
    "\n",
    "y_pred_rf = predictions_rf.select(\"prediction\")\n",
    "y_pred_rf = y_pred_rf.toPandas()\n",
    "\n",
    "cnf_matrix1 = confusion_matrix(y_true_rf, y_pred_rf,labels=class_names)\n",
    "#cnf_matrix\n",
    "plt.figure()\n",
    "plot_confusion_matrix(cnf_matrix1, classes=class_names,\n",
    "                      title='Confusion matrix')\n",
    "plt.show()"
   ]
  },
  {
   "cell_type": "markdown",
   "id": "70b04784",
   "metadata": {},
   "source": [
    "### Precision, Recall and F1 Score"
   ]
  },
  {
   "cell_type": "code",
   "execution_count": 113,
   "id": "4a51cbc5",
   "metadata": {},
   "outputs": [
    {
     "name": "stdout",
     "output_type": "stream",
     "text": [
      "Precision:  0.9922480620155039\n",
      "recall:  0.3688760806916426\n",
      "f1_score:  0.5378151260504201\n"
     ]
    }
   ],
   "source": [
    "precision_rf = confusion_matrix_rf[1,1]/np.add(confusion_matrix_rf[0,1], confusion_matrix_rf[1,1])\n",
    "print(\"Precision: \",precision_rf)\n",
    "recall_rf = confusion_matrix_rf[1,1]/np.add(confusion_matrix_rf[1,0], confusion_matrix_rf[1,1])\n",
    "print(\"recall: \",recall_rf)\n",
    "f1_score_rf = 2*(precision_rf*recall_rf)/(precision_rf+recall_rf)\n",
    "print(\"f1_score: \",f1_score_rf)"
   ]
  },
  {
   "cell_type": "markdown",
   "id": "d823754f",
   "metadata": {},
   "source": [
    "### ROC and Precision-Recall Curve"
   ]
  },
  {
   "cell_type": "code",
   "execution_count": 114,
   "id": "f3ef23ae",
   "metadata": {},
   "outputs": [
    {
     "name": "stdout",
     "output_type": "stream",
     "text": [
      "Area under ROC Curve: 0.9893\n",
      "Area under PR Curve: 0.8447\n"
     ]
    }
   ],
   "source": [
    "from pyspark.ml.evaluation import BinaryClassificationEvaluator\n",
    "\n",
    "# Let's use the run-of-the-mill evaluator\n",
    "evaluator = BinaryClassificationEvaluator(labelCol='is_fraud')\n",
    "\n",
    "# We have only two choices: area under ROC and PR curves :-(\n",
    "auroc_rf = evaluator.evaluate(predictions_rf, {evaluator.metricName: \"areaUnderROC\"})\n",
    "auprc_rf = evaluator.evaluate(predictions_rf, {evaluator.metricName: \"areaUnderPR\"})\n",
    "print(\"Area under ROC Curve: {:.4f}\".format(auroc_rf))\n",
    "print(\"Area under PR Curve: {:.4f}\".format(auprc_rf))"
   ]
  },
  {
   "cell_type": "code",
   "execution_count": 116,
   "id": "50596288",
   "metadata": {},
   "outputs": [
    {
     "name": "stdout",
     "output_type": "stream",
     "text": [
      "Area under ROC Curve: 0.9893\n",
      "Area under PR Curve: 0.8447\n"
     ]
    },
    {
     "data": {
      "text/plain": [
       "<AxesSubplot:title={'center':'Precision-Recall Curve'}, xlabel='Recall', ylabel='Precision'>"
      ]
     },
     "execution_count": 116,
     "metadata": {},
     "output_type": "execute_result"
    },
    {
     "data": {
      "image/png": "[encoded data removed]",
      "text/plain": [
       "<Figure size 864x288 with 2 Axes>"
      ]
     },
     "metadata": {
      "needs_background": "light"
     },
     "output_type": "display_data"
    }
   ],
   "source": [
    "from handyspark import *\n",
    "# Creates instance of extended version of BinaryClassificationMetrics\n",
    "# using a DataFrame and its probability and label columns, as the output\n",
    "# from the classifier\n",
    "bcm = BinaryClassificationMetrics(predictions_rf, scoreCol='probability', labelCol='is_fraud')\n",
    "\n",
    "# We still can get the same metrics as the evaluator...\n",
    "print(\"Area under ROC Curve: {:.4f}\".format(bcm.areaUnderROC))\n",
    "print(\"Area under PR Curve: {:.4f}\".format(bcm.areaUnderPR))\n",
    "\n",
    "# But now we can PLOT both ROC and PR curves!\n",
    "fig, axs = plt.subplots(1, 2, figsize=(12, 4))\n",
    "bcm.plot_roc_curve(ax=axs[0])\n",
    "bcm.plot_pr_curve(ax=axs[1])\n",
    "\n",
    "# We can also get all metrics (FPR, Recall and Precision) by threshold\n",
    "#bcm.getMetricsByThreshold().filter('fpr between 0.19 and 0.21').toPandas()\n",
    "\n",
    "# And get the confusion matrix for any threshold we want\n",
    "#bcm.print_confusion_matrix(.415856)"
   ]
  },
  {
   "cell_type": "markdown",
   "id": "4132c627",
   "metadata": {},
   "source": [
    "### Hyperparameter Tuning on numTrees, impurity and maxDepth to try to improve the model"
   ]
  },
  {
   "cell_type": "code",
   "execution_count": 118,
   "id": "5ddef266",
   "metadata": {},
   "outputs": [],
   "source": [
    "from pyspark.ml.tuning import CrossValidator, ParamGridBuilder\n",
    "\n",
    "train_cv, hold_out_test_cv = df.randomSplit([0.9, 0.1])\n",
    "\n",
    "numFolds = 3\n",
    "\n",
    "rf_model_cv = classification.RandomForestClassifier(labelCol=\"is_fraud\", featuresCol=\"finalfeatures\", seed = 0)\n",
    "evaluator_rfcv = BinaryClassificationEvaluator(metricName='areaUnderPR', labelCol='is_fraud')    \n",
    "\n",
    "pipeline_rfcv = Pipeline(stages=[rf_model_cv])\n",
    "paramGrid_rfcv = ParamGridBuilder()\\\n",
    "    .addGrid(rf_model_cv.numTrees, [10, 20, 30])\\\n",
    "    .addGrid(rf_model_cv.maxDepth, [3,5,10])\\\n",
    "    .addGrid(rf_model_cv.impurity, ['gini','entropy'])\\\n",
    "    .build()\n",
    "\n",
    "crossval = CrossValidator(\n",
    "    estimator=pipeline_rfcv,\n",
    "    estimatorParamMaps=paramGrid_rfcv,\n",
    "    evaluator=evaluator_rfcv,\n",
    "    numFolds=numFolds)\n",
    "\n",
    "rf_grid_model = crossval.fit(train_cv)"
   ]
  },
  {
   "cell_type": "code",
   "execution_count": 119,
   "id": "ef1d9921",
   "metadata": {},
   "outputs": [
    {
     "name": "stdout",
     "output_type": "stream",
     "text": [
      "The best parameters for the random forest models are:\n",
      "  {Param(parent='RandomForestClassifier_f8511b0be0ae', name='numTrees', doc='Number of trees to train (>= 1).'): 30, Param(parent='RandomForestClassifier_f8511b0be0ae', name='maxDepth', doc='Maximum depth of the tree. (>= 0) E.g., depth 0 means 1 leaf node; depth 1 means 1 internal node + 2 leaf nodes.'): 10, Param(parent='RandomForestClassifier_f8511b0be0ae', name='impurity', doc='Criterion used for information gain calculation (case-insensitive). Supported options: entropy, gini'): 'gini'}\n"
     ]
    }
   ],
   "source": [
    "print(\"The best parameters for the random forest models are:\\n \",rf_grid_model.getEstimatorParamMaps()[np.argmax(rf_grid_model.avgMetrics)])"
   ]
  },
  {
   "cell_type": "markdown",
   "id": "25488484",
   "metadata": {},
   "source": [
    "### Creating the best Random Forest Classifier"
   ]
  },
  {
   "cell_type": "code",
   "execution_count": 120,
   "id": "221311de",
   "metadata": {},
   "outputs": [],
   "source": [
    "best_model_rf = rf_model_cv.setImpurity('gini').setMaxDepth(10).setNumTrees(30).fit(train_cv)"
   ]
  },
  {
   "cell_type": "code",
   "execution_count": null,
   "id": "c2f7e669",
   "metadata": {},
   "outputs": [],
   "source": [
    "# Feature Importance\n"
   ]
  },
  {
   "cell_type": "code",
   "execution_count": 121,
   "id": "15ace612",
   "metadata": {},
   "outputs": [],
   "source": [
    "best_rfPredictions = best_model_rf.transform(hold_out_test_cv)\n",
    "best_predsAndLabels_rf = best_rfPredictions.select(['prediction','is_fraud']).\\\n",
    "                                withColumn('is_fraud', func.col('is_fraud').cast(FloatType())).orderBy('prediction')"
   ]
  },
  {
   "cell_type": "code",
   "execution_count": 122,
   "id": "bd7f2169",
   "metadata": {},
   "outputs": [
    {
     "name": "stdout",
     "output_type": "stream",
     "text": [
      "Precision:  0.9658002735978112\n",
      "recall:  0.7415966386554622\n",
      "f1_score:  0.8389780154486036\n"
     ]
    }
   ],
   "source": [
    "# Precision, Recall and F1 Score\n",
    "\n",
    "best_confusionMatrix_rf = MulticlassMetrics(best_predsAndLabels_rf.rdd.map(tuple)).confusionMatrix().toArray()\n",
    "precision_rfBest = best_confusionMatrix_rf[1,1]/np.add(best_confusionMatrix_rf[0,1], best_confusionMatrix_rf[1,1])\n",
    "print(\"Precision: \",precision_rfBest)\n",
    "recall_rfBest = best_confusionMatrix_rf[1,1]/np.add(best_confusionMatrix_rf[1,0], best_confusionMatrix_rf[1,1])\n",
    "print(\"recall: \",recall_rfBest)\n",
    "f1_score_rfBest = 2*(precision_rfBest*recall_rfBest)/(precision_rfBest+recall_rfBest)\n",
    "print(\"f1_score: \",f1_score_rfBest)"
   ]
  },
  {
   "cell_type": "code",
   "execution_count": 123,
   "id": "a34fc7e7",
   "metadata": {},
   "outputs": [
    {
     "name": "stdout",
     "output_type": "stream",
     "text": [
      "Area under ROC Curve for test data: 0.9980\n",
      "Area under PR Curve for test data: 0.9329\n"
     ]
    }
   ],
   "source": [
    "auroc_rfBest = evaluator.evaluate(best_rfPredictions, {evaluator.metricName: \"areaUnderROC\"})\n",
    "auprc_rfBest = evaluator.evaluate(best_rfPredictions, {evaluator.metricName: \"areaUnderPR\"})\n",
    "print(\"Area under ROC Curve for test data: {:.4f}\".format(auroc_rfBest))\n",
    "print(\"Area under PR Curve for test data: {:.4f}\".format(auprc_rfBest))"
   ]
  },
  {
   "cell_type": "code",
   "execution_count": 124,
   "id": "c0432664",
   "metadata": {},
   "outputs": [
    {
     "name": "stdout",
     "output_type": "stream",
     "text": [
      "Area under ROC Curve: 0.9980\n",
      "Area under PR Curve: 0.9336\n"
     ]
    },
    {
     "data": {
      "text/plain": [
       "<AxesSubplot:title={'center':'Precision-Recall Curve'}, xlabel='Recall', ylabel='Precision'>"
      ]
     },
     "execution_count": 124,
     "metadata": {},
     "output_type": "execute_result"
    },
    {
     "data": {
      "image/png": "[encoded data removed]",
      "text/plain": [
       "<Figure size 864x288 with 2 Axes>"
      ]
     },
     "metadata": {
      "needs_background": "light"
     },
     "output_type": "display_data"
    }
   ],
   "source": [
    "from handyspark import *\n",
    "# Creates instance of extended version of BinaryClassificationMetrics\n",
    "# using a DataFrame and its probability and label columns, as the output\n",
    "# from the classifier\n",
    "bcm_best_rf = BinaryClassificationMetrics(best_rfPredictions, scoreCol='probability', labelCol='is_fraud')\n",
    "\n",
    "# We still can get the same metrics as the evaluator...\n",
    "print(\"Area under ROC Curve: {:.4f}\".format(bcm_best_rf.areaUnderROC))\n",
    "print(\"Area under PR Curve: {:.4f}\".format(bcm_best_rf.areaUnderPR))\n",
    "\n",
    "# But now we can PLOT both ROC and PR curves!\n",
    "fig, axs = plt.subplots(1, 2, figsize=(12, 4))\n",
    "bcm_best_rf.plot_roc_curve(ax=axs[0])\n",
    "bcm_best_rf.plot_pr_curve(ax=axs[1])\n",
    "\n",
    "# We can also get all metrics (FPR, Recall and Precision) by threshold\n",
    "#bcm.getMetricsByThreshold().filter('fpr between 0.19 and 0.21').toPandas()\n",
    "\n",
    "# And get the confusion matrix for any threshold we want\n",
    "#bcm.print_confusion_matrix(.415856)"
   ]
  },
  {
   "cell_type": "markdown",
   "id": "944b1962",
   "metadata": {},
   "source": [
    "The best model gives us higher recall and precision."
   ]
  },
  {
   "cell_type": "markdown",
   "id": "cfcf6e58",
   "metadata": {},
   "source": [
    "### Visualization to understand the Best threshold value for classifying fraudulent and legitimate transactions."
   ]
  },
  {
   "cell_type": "code",
   "execution_count": 125,
   "id": "fa7c641b",
   "metadata": {},
   "outputs": [
    {
     "name": "stderr",
     "output_type": "stream",
     "text": [
      "Exception ignored in: <function JavaWrapper.__del__ at 0x7f2be19e9160>\n",
      "Traceback (most recent call last):\n",
      "  File \"/opt/conda/lib/python3.8/site-packages/pyspark/ml/wrapper.py\", line 39, in __del__\n",
      "    if SparkContext._active_spark_context and self._java_obj is not None:\n",
      "AttributeError: 'BinaryClassificationEvaluator' object has no attribute '_java_obj'\n"
     ]
    },
    {
     "name": "stdout",
     "output_type": "stream",
     "text": [
      "Best Threshold: 0.30732443928718567 with F-Score: 0.8760775862068966\n",
      "Recall: 0.8539915966386554, Precision: 0.8993362831858407\n"
     ]
    },
    {
     "data": {
      "image/png": "[encoded data removed]",
      "text/plain": [
       "<Figure size 800x480 with 1 Axes>"
      ]
     },
     "metadata": {
      "needs_background": "light"
     },
     "output_type": "display_data"
    },
    {
     "data": {
      "text/plain": [
       "<ggplot: (8738593418855)>"
      ]
     },
     "execution_count": 125,
     "metadata": {},
     "output_type": "execute_result"
    }
   ],
   "source": [
    "# The precision-Recall curve for finding the optimal threshold\n",
    "# https://medium.com/@douglaspsteen/precision-recall-curves-d32e5b290248\n",
    "\n",
    "from pyspark.sql.functions import udf\n",
    "from pyspark.sql.types import FloatType\n",
    "from sklearn.metrics import precision_recall_curve   # Calculate the Precision-Recall curve\n",
    "from sklearn.metrics import f1_score                 # Calculate the F-score\n",
    "from plotnine import *\n",
    "import plotnine\n",
    "\n",
    "# creating a udf for extracting prob belonging to positive class\n",
    "# https://stackoverflow.com/questions/44425159/access-element-of-a-vector-in-a-spark-dataframe-logistic-regression-probability\n",
    "\n",
    "secondelement=udf(lambda v:float(v[1]),FloatType())\n",
    "\n",
    "# creating pandas dataframe y_test and y_pred for sklearn where y_pred contains the probability of belonging to positive class\n",
    "y_pred_rf = best_rfPredictions.select(secondelement('probability')).withColumnRenamed('<lambda>(probability)', 'pos_class_prob').toPandas()\n",
    "y_test_rf = hold_out_test_cv.select('is_fraud').toPandas()\n",
    "\n",
    "\n",
    "from sklearn.metrics import precision_recall_curve   # Calculate the Precision-Recall curve\n",
    "from sklearn.metrics import f1_score                 # Calculate the F-score\n",
    "# Import module for data visualization\n",
    "from plotnine import *\n",
    "import plotnine\n",
    "\n",
    "# Create the Precision-Recall curve\n",
    "precision, recall, thresholds = precision_recall_curve(y_test_rf, y_pred_rf)\n",
    "\n",
    "# Plot the ROC curve\n",
    "df_recall_precision_rf = pd.DataFrame({'Precision':precision[:-1],\n",
    "                                    'Recall':recall[:-1],\n",
    "                                    'Threshold':thresholds})\n",
    "\n",
    "# Calculate the f-score\n",
    "fscore = (2 * precision * recall) / (precision + recall)\n",
    "\n",
    "# Find the optimal threshold\n",
    "index = np.argmax(fscore)\n",
    "thresholdOpt = thresholds[index]\n",
    "fscoreOpt = fscore[index]\n",
    "recallOpt = recall[index]\n",
    "precisionOpt = precision[index]\n",
    "print('Best Threshold: {} with F-Score: {}'.format(thresholdOpt, fscoreOpt))\n",
    "print('Recall: {}, Precision: {}'.format(recallOpt, precisionOpt))\n",
    "\n",
    "# Create a data viz\n",
    "plotnine.options.figure_size = (8, 4.8)\n",
    "(\n",
    "    ggplot(data = df_recall_precision_rf)+\n",
    "    geom_point(aes(x = 'Recall',\n",
    "                   y = 'Precision'),\n",
    "               size = 0.4)+\n",
    "    # Best threshold\n",
    "    geom_point(aes(x = recallOpt,\n",
    "                   y = precisionOpt),\n",
    "               color = '#981220',\n",
    "               size = 4)+\n",
    "    geom_line(aes(x = 'Recall',\n",
    "                  y = 'Precision'))+\n",
    "    # Annotate the text\n",
    "    geom_text(aes(x = recallOpt,\n",
    "                  y = precisionOpt),\n",
    "              label = 'Optimal threshold \\n for class: {}'.format(thresholdOpt),\n",
    "              nudge_x = 0.18,\n",
    "              nudge_y = 0,\n",
    "              size = 10,\n",
    "              fontstyle = 'italic')+\n",
    "    labs(title = 'Recall Precision Curve')+\n",
    "    xlab('Recall')+\n",
    "    ylab('Precision')+\n",
    "    theme_minimal()\n",
    ")"
   ]
  },
  {
   "cell_type": "markdown",
   "id": "78a73d90",
   "metadata": {},
   "source": [
    "# Gradient Boosting"
   ]
  },
  {
   "cell_type": "markdown",
   "id": "a2504470",
   "metadata": {},
   "source": [
    "## Default Model"
   ]
  },
  {
   "cell_type": "code",
   "execution_count": 51,
   "id": "70c0b8c6",
   "metadata": {},
   "outputs": [],
   "source": [
    "from pyspark.ml import feature, classification\n",
    "\n",
    "# default parameters\n",
    "gbt_model = classification.GBTClassifier(featuresCol='finalfeatures', labelCol='is_fraud').\\\n",
    "    fit(train)"
   ]
  },
  {
   "cell_type": "code",
   "execution_count": 52,
   "id": "e84ad553",
   "metadata": {},
   "outputs": [
    {
     "data": {
      "text/html": [
       "<div>\n",
       "<style scoped>\n",
       "    .dataframe tbody tr th:only-of-type {\n",
       "        vertical-align: middle;\n",
       "    }\n",
       "\n",
       "    .dataframe tbody tr th {\n",
       "        vertical-align: top;\n",
       "    }\n",
       "\n",
       "    .dataframe thead th {\n",
       "        text-align: right;\n",
       "    }\n",
       "</style>\n",
       "<table border=\"1\" class=\"dataframe\">\n",
       "  <thead>\n",
       "    <tr style=\"text-align: right;\">\n",
       "      <th></th>\n",
       "      <th>feature</th>\n",
       "      <th>importance</th>\n",
       "    </tr>\n",
       "  </thead>\n",
       "  <tbody>\n",
       "    <tr>\n",
       "      <th>4</th>\n",
       "      <td>rolling_24h_avg_amt</td>\n",
       "      <td>0.237055</td>\n",
       "    </tr>\n",
       "    <tr>\n",
       "      <th>0</th>\n",
       "      <td>amt</td>\n",
       "      <td>0.196343</td>\n",
       "    </tr>\n",
       "    <tr>\n",
       "      <th>2</th>\n",
       "      <td>hour_of_transaction</td>\n",
       "      <td>0.182893</td>\n",
       "    </tr>\n",
       "    <tr>\n",
       "      <th>5</th>\n",
       "      <td>rolling_1_week_avg_amt</td>\n",
       "      <td>0.114201</td>\n",
       "    </tr>\n",
       "    <tr>\n",
       "      <th>7</th>\n",
       "      <td>number_trans_24h</td>\n",
       "      <td>0.087963</td>\n",
       "    </tr>\n",
       "    <tr>\n",
       "      <th>12</th>\n",
       "      <td>gender-vector</td>\n",
       "      <td>0.042914</td>\n",
       "    </tr>\n",
       "    <tr>\n",
       "      <th>11</th>\n",
       "      <td>category-vector</td>\n",
       "      <td>0.032012</td>\n",
       "    </tr>\n",
       "    <tr>\n",
       "      <th>8</th>\n",
       "      <td>number_trans_specific_day</td>\n",
       "      <td>0.023775</td>\n",
       "    </tr>\n",
       "    <tr>\n",
       "      <th>9</th>\n",
       "      <td>number_trans_month</td>\n",
       "      <td>0.022377</td>\n",
       "    </tr>\n",
       "    <tr>\n",
       "      <th>6</th>\n",
       "      <td>rolling_1month_avg_amt</td>\n",
       "      <td>0.016834</td>\n",
       "    </tr>\n",
       "    <tr>\n",
       "      <th>1</th>\n",
       "      <td>city_pop</td>\n",
       "      <td>0.009179</td>\n",
       "    </tr>\n",
       "    <tr>\n",
       "      <th>10</th>\n",
       "      <td>weekly_avg_amt_over_3_months</td>\n",
       "      <td>0.004203</td>\n",
       "    </tr>\n",
       "    <tr>\n",
       "      <th>13</th>\n",
       "      <td>age_udf_cat-vector</td>\n",
       "      <td>0.001838</td>\n",
       "    </tr>\n",
       "    <tr>\n",
       "      <th>3</th>\n",
       "      <td>distance</td>\n",
       "      <td>0.000000</td>\n",
       "    </tr>\n",
       "    <tr>\n",
       "      <th>14</th>\n",
       "      <td>day_of_week-vector</td>\n",
       "      <td>0.000000</td>\n",
       "    </tr>\n",
       "  </tbody>\n",
       "</table>\n",
       "</div>"
      ],
      "text/plain": [
       "                         feature  importance\n",
       "4            rolling_24h_avg_amt    0.237055\n",
       "0                            amt    0.196343\n",
       "2            hour_of_transaction    0.182893\n",
       "5         rolling_1_week_avg_amt    0.114201\n",
       "7               number_trans_24h    0.087963\n",
       "12                 gender-vector    0.042914\n",
       "11               category-vector    0.032012\n",
       "8      number_trans_specific_day    0.023775\n",
       "9             number_trans_month    0.022377\n",
       "6         rolling_1month_avg_amt    0.016834\n",
       "1                       city_pop    0.009179\n",
       "10  weekly_avg_amt_over_3_months    0.004203\n",
       "13            age_udf_cat-vector    0.001838\n",
       "3                       distance    0.000000\n",
       "14            day_of_week-vector    0.000000"
      ]
     },
     "execution_count": 52,
     "metadata": {},
     "output_type": "execute_result"
    }
   ],
   "source": [
    "feature_importance_gbt = pd.DataFrame(list(zip(cols, gbt_model.featureImportances.toArray())),\n",
    "            columns = ['feature', 'importance']).sort_values('importance', ascending=False)\n",
    "feature_importance_gbt"
   ]
  },
  {
   "cell_type": "code",
   "execution_count": 102,
   "id": "021d7914",
   "metadata": {},
   "outputs": [
    {
     "name": "stdout",
     "output_type": "stream",
     "text": [
      "Area under PR curve for Gradient Boosted Trees on validation set: 0.9069470285942144\n"
     ]
    }
   ],
   "source": [
    "print('Area under PR curve for Gradient Boosted Trees on validation set: {0}'.format(bce.evaluate(gbt_model.transform(validate))))\n",
    "# print('Area under PR curve for Gradient Boosted Trees on test set: {0}'.format(bce.evaluate(gbt_model.transform(test))))"
   ]
  },
  {
   "cell_type": "code",
   "execution_count": 53,
   "id": "92f2ef07",
   "metadata": {},
   "outputs": [],
   "source": [
    "from pyspark.sql.types import FloatType\n",
    "from pyspark.mllib.evaluation import MulticlassMetrics\n",
    "\n",
    "predictions_gbt = gbt_model.transform(test)\n",
    "preds_and_labels_gbt = predictions_gbt.select(['prediction','is_fraud']).withColumn('is_fraud', func.col('is_fraud').cast(FloatType())).orderBy('prediction')\n",
    "\n",
    "# getting the predicted probabilities\n",
    "prob_gbt = predictions_gbt.select('probability')"
   ]
  },
  {
   "cell_type": "markdown",
   "id": "a6a0851b",
   "metadata": {},
   "source": [
    "## Confusion Matrix"
   ]
  },
  {
   "cell_type": "code",
   "execution_count": 54,
   "id": "d00c7e35",
   "metadata": {},
   "outputs": [
    {
     "data": {
      "text/plain": [
       "array([[1.84715e+05, 8.90000e+01],\n",
       "       [1.86000e+02, 8.55000e+02]])"
      ]
     },
     "execution_count": 54,
     "metadata": {},
     "output_type": "execute_result"
    }
   ],
   "source": [
    "confusion_matrix_gbt = MulticlassMetrics(preds_and_labels_gbt.rdd.map(tuple)).confusionMatrix().toArray()\n",
    "confusion_matrix_gbt"
   ]
  },
  {
   "cell_type": "code",
   "execution_count": 55,
   "id": "7f8c904e",
   "metadata": {},
   "outputs": [
    {
     "name": "stdout",
     "output_type": "stream",
     "text": [
      "Confusion matrix, without normalization\n",
      "[[   855    186]\n",
      " [    89 184715]]\n"
     ]
    },
    {
     "data": {
      "image/png": "[encoded data removed]",
      "text/plain": [
       "<Figure size 432x288 with 2 Axes>"
      ]
     },
     "metadata": {
      "needs_background": "light"
     },
     "output_type": "display_data"
    }
   ],
   "source": [
    "from sklearn.metrics import confusion_matrix\n",
    "\n",
    "y_true_gbt = predictions_gbt.select(\"is_fraud\")\n",
    "y_true_gbt = y_true_gbt.toPandas()\n",
    "\n",
    "y_pred_gbt = predictions_gbt.select(\"prediction\")\n",
    "y_pred_gbt = y_pred_gbt.toPandas()\n",
    "\n",
    "cnf_matrix2 = confusion_matrix(y_true_gbt, y_pred_gbt,labels=class_names)\n",
    "#cnf_matrix\n",
    "plt.figure()\n",
    "plot_confusion_matrix(cnf_matrix2, classes=class_names,\n",
    "                      title='Confusion matrix for Gradient Boosting')\n",
    "plt.show()"
   ]
  },
  {
   "cell_type": "markdown",
   "id": "424c20c3",
   "metadata": {},
   "source": [
    "## Precision, Recall and F1 Score"
   ]
  },
  {
   "cell_type": "code",
   "execution_count": 57,
   "id": "cf9ab1ce",
   "metadata": {},
   "outputs": [
    {
     "name": "stdout",
     "output_type": "stream",
     "text": [
      "Precision:  0.9057203389830508\n",
      "recall:  0.8213256484149856\n",
      "f1_score:  0.8614609571788413\n"
     ]
    }
   ],
   "source": [
    "precision_gbt = confusion_matrix_gbt[1,1]/np.add(confusion_matrix_gbt[0,1], confusion_matrix_gbt[1,1])\n",
    "print(\"Precision: \",precision_gbt)\n",
    "recall_gbt = confusion_matrix_gbt[1,1]/np.add(confusion_matrix_gbt[1,0], confusion_matrix_gbt[1,1])\n",
    "print(\"recall: \",recall_gbt)\n",
    "f1_score_gbt = 2*(precision_gbt*recall_gbt)/(precision_gbt+recall_gbt)\n",
    "print(\"f1_score: \",f1_score_gbt)"
   ]
  },
  {
   "cell_type": "markdown",
   "id": "37a82541",
   "metadata": {},
   "source": [
    "## Area under PR Curve and ROC"
   ]
  },
  {
   "cell_type": "code",
   "execution_count": 59,
   "id": "87a0c330",
   "metadata": {},
   "outputs": [
    {
     "name": "stdout",
     "output_type": "stream",
     "text": [
      "Area under ROC Curve: 0.9957\n",
      "Area under PR Curve: 0.9193\n"
     ]
    }
   ],
   "source": [
    "from pyspark.ml.evaluation import BinaryClassificationEvaluator\n",
    "\n",
    "# Let's use the run-of-the-mill evaluator\n",
    "evaluator = BinaryClassificationEvaluator(labelCol='is_fraud')\n",
    "\n",
    "# We have only two choices: area under ROC and PR curves :-(\n",
    "auroc_gbt = evaluator.evaluate(predictions_gbt, {evaluator.metricName: \"areaUnderROC\"})\n",
    "auprc_gbt = evaluator.evaluate(predictions_gbt, {evaluator.metricName: \"areaUnderPR\"})\n",
    "print(\"Area under ROC Curve: {:.4f}\".format(auroc_gbt))\n",
    "print(\"Area under PR Curve: {:.4f}\".format(auprc_gbt))"
   ]
  },
  {
   "cell_type": "markdown",
   "id": "47d34028",
   "metadata": {},
   "source": [
    "## Precision-Recall Curve and ROC"
   ]
  },
  {
   "cell_type": "code",
   "execution_count": 58,
   "id": "f81a0b25",
   "metadata": {},
   "outputs": [
    {
     "name": "stdout",
     "output_type": "stream",
     "text": [
      "Area under ROC Curve: 0.9957\n",
      "Area under PR Curve: 0.9193\n"
     ]
    },
    {
     "data": {
      "text/plain": [
       "<AxesSubplot:title={'center':'Precision-Recall Curve'}, xlabel='Recall', ylabel='Precision'>"
      ]
     },
     "execution_count": 58,
     "metadata": {},
     "output_type": "execute_result"
    },
    {
     "data": {
      "image/png": "[encoded data removed]",
      "text/plain": [
       "<Figure size 864x288 with 2 Axes>"
      ]
     },
     "metadata": {
      "needs_background": "light"
     },
     "output_type": "display_data"
    }
   ],
   "source": [
    "from handyspark import *\n",
    "# Creates instance of extended version of BinaryClassificationMetrics\n",
    "# using a DataFrame and its probability and label columns, as the output\n",
    "# from the classifier\n",
    "bcm = BinaryClassificationMetrics(predictions_gbt, scoreCol='probability', labelCol='is_fraud')\n",
    "\n",
    "# We still can get the same metrics as the evaluator...\n",
    "print(\"Area under ROC Curve: {:.4f}\".format(bcm.areaUnderROC))\n",
    "print(\"Area under PR Curve: {:.4f}\".format(bcm.areaUnderPR))\n",
    "\n",
    "# But now we can PLOT both ROC and PR curves!\n",
    "fig, axs = plt.subplots(1, 2, figsize=(12, 4))\n",
    "bcm.plot_roc_curve(ax=axs[0])\n",
    "bcm.plot_pr_curve(ax=axs[1])\n",
    "\n",
    "# We can also get all metrics (FPR, Recall and Precision) by threshold\n",
    "#bcm.getMetricsByThreshold().filter('fpr between 0.19 and 0.21').toPandas()\n",
    "\n",
    "# And get the confusion matrix for any threshold we want\n",
    "#bcm.print_confusion_matrix(.415856)"
   ]
  },
  {
   "cell_type": "markdown",
   "id": "a4240b2b",
   "metadata": {},
   "source": [
    "## Finding the optimal threshold for classifying a transaction as fraud to achieve the highest F1 score"
   ]
  },
  {
   "cell_type": "code",
   "execution_count": 126,
   "id": "0824940f",
   "metadata": {},
   "outputs": [
    {
     "name": "stdout",
     "output_type": "stream",
     "text": [
      "Best Threshold: 0.47456419467926025 with F-Score: 0.8678304239401498\n",
      "Recall: 0.8357348703170029, Precision: 0.9024896265560166\n"
     ]
    },
    {
     "data": {
      "image/png": "[encoded data removed]",
      "text/plain": [
       "<Figure size 800x480 with 1 Axes>"
      ]
     },
     "metadata": {
      "needs_background": "light"
     },
     "output_type": "display_data"
    },
    {
     "data": {
      "text/plain": [
       "<ggplot: (8738525418548)>"
      ]
     },
     "execution_count": 126,
     "metadata": {},
     "output_type": "execute_result"
    }
   ],
   "source": [
    "# The precision-Recall curve for finding the optimal threshold\n",
    "\n",
    "# creating pandas dataframe y_test and y_pred for sklearn where y_pred contains the probability of belonging to positive class\n",
    "y_pred = predictions_gbt.select(secondelement('probability')).withColumnRenamed('<lambda>(probability)', 'pos_class_prob').toPandas()\n",
    "y_test = test.select('is_fraud').toPandas()\n",
    "\n",
    "\n",
    "from sklearn.metrics import precision_recall_curve   # Calculate the Precision-Recall curve\n",
    "from sklearn.metrics import f1_score                 # Calculate the F-score\n",
    "# Import module for data visualization\n",
    "from plotnine import *\n",
    "import plotnine\n",
    "\n",
    "# Create the Precision-Recall curve\n",
    "precision, recall, thresholds = precision_recall_curve(y_test, y_pred)\n",
    "\n",
    "# Plot the ROC curve\n",
    "df_recall_precision_gbt = pd.DataFrame({'Precision':precision[:-1],\n",
    "                                    'Recall':recall[:-1],\n",
    "                                    'Threshold':thresholds})\n",
    "\n",
    "# Calculate the f-score\n",
    "fscore = (2 * precision * recall) / (precision + recall)\n",
    "\n",
    "# Find the optimal threshold\n",
    "index = np.argmax(fscore)\n",
    "thresholdOpt = thresholds[index]\n",
    "fscoreOpt = fscore[index]\n",
    "recallOpt = recall[index]\n",
    "precisionOpt = precision[index]\n",
    "print('Best Threshold: {} with F-Score: {}'.format(thresholdOpt, fscoreOpt))\n",
    "print('Recall: {}, Precision: {}'.format(recallOpt, precisionOpt))\n",
    "\n",
    "# Create a data viz\n",
    "plotnine.options.figure_size = (8, 4.8)\n",
    "(\n",
    "    ggplot(data = df_recall_precision_gbt)+\n",
    "    geom_point(aes(x = 'Recall',\n",
    "                   y = 'Precision'),\n",
    "               size = 0.4)+\n",
    "    # Best threshold\n",
    "    geom_point(aes(x = recallOpt,\n",
    "                   y = precisionOpt),\n",
    "               color = '#981220',\n",
    "               size = 4)+\n",
    "    geom_line(aes(x = 'Recall',\n",
    "                  y = 'Precision'))+\n",
    "    # Annotate the text\n",
    "    geom_text(aes(x = recallOpt,\n",
    "                  y = precisionOpt),\n",
    "              label = 'Optimal threshold \\n for class: {}'.format(thresholdOpt),\n",
    "              nudge_x = 0.18,\n",
    "              nudge_y = 0,\n",
    "              size = 10,\n",
    "              fontstyle = 'italic')+\n",
    "    labs(title = 'Recall Precision Curve')+\n",
    "    xlab('Recall')+\n",
    "    ylab('Precision')+\n",
    "    theme_minimal()\n",
    ")"
   ]
  },
  {
   "cell_type": "code",
   "execution_count": null,
   "id": "61b93fdf",
   "metadata": {},
   "outputs": [],
   "source": []
  },
  {
   "cell_type": "markdown",
   "id": "665f0a2b",
   "metadata": {},
   "source": [
    "# Combining results into DF"
   ]
  },
  {
   "cell_type": "code",
   "execution_count": 76,
   "id": "9fd48422",
   "metadata": {},
   "outputs": [
    {
     "data": {
      "text/html": [
       "<div>\n",
       "<style scoped>\n",
       "    .dataframe tbody tr th:only-of-type {\n",
       "        vertical-align: middle;\n",
       "    }\n",
       "\n",
       "    .dataframe tbody tr th {\n",
       "        vertical-align: top;\n",
       "    }\n",
       "\n",
       "    .dataframe thead th {\n",
       "        text-align: right;\n",
       "    }\n",
       "</style>\n",
       "<table border=\"1\" class=\"dataframe\">\n",
       "  <thead>\n",
       "    <tr style=\"text-align: right;\">\n",
       "      <th></th>\n",
       "      <th>Model</th>\n",
       "      <th>Precision</th>\n",
       "      <th>Recall</th>\n",
       "      <th>F1Score</th>\n",
       "      <th>AreaROC</th>\n",
       "      <th>AreaPRCurve</th>\n",
       "    </tr>\n",
       "  </thead>\n",
       "  <tbody>\n",
       "    <tr>\n",
       "      <th>0</th>\n",
       "      <td>Logistic Regression</td>\n",
       "      <td>0.759766</td>\n",
       "      <td>0.373679</td>\n",
       "      <td>0.500966</td>\n",
       "      <td>0.960065</td>\n",
       "      <td>0.599438</td>\n",
       "    </tr>\n",
       "    <tr>\n",
       "      <th>1</th>\n",
       "      <td>Random Forest</td>\n",
       "      <td>0.980000</td>\n",
       "      <td>0.390000</td>\n",
       "      <td>0.780000</td>\n",
       "      <td>0.990000</td>\n",
       "      <td>0.820000</td>\n",
       "    </tr>\n",
       "    <tr>\n",
       "      <th>2</th>\n",
       "      <td>Gradient Boosting Trees</td>\n",
       "      <td>0.905720</td>\n",
       "      <td>0.821326</td>\n",
       "      <td>0.861461</td>\n",
       "      <td>0.995713</td>\n",
       "      <td>0.919254</td>\n",
       "    </tr>\n",
       "  </tbody>\n",
       "</table>\n",
       "</div>"
      ],
      "text/plain": [
       "                     Model  Precision    Recall   F1Score   AreaROC  \\\n",
       "0      Logistic Regression   0.759766  0.373679  0.500966  0.960065   \n",
       "1            Random Forest   0.980000  0.390000  0.780000  0.990000   \n",
       "2  Gradient Boosting Trees   0.905720  0.821326  0.861461  0.995713   \n",
       "\n",
       "   AreaPRCurve  \n",
       "0     0.599438  \n",
       "1     0.820000  \n",
       "2     0.919254  "
      ]
     },
     "execution_count": 76,
     "metadata": {},
     "output_type": "execute_result"
    }
   ],
   "source": [
    "# initialize list of lists\n",
    "data = [['Logistic Regression', precision_lr, recall_lr, f1_score_lr, auroc_lr, auprc_lr], \\\n",
    "        ['Random Forest', precision_rf, recall_rf, f1_score_rf, auroc_rf, auprc_rf], \\\n",
    "        ['Random Forest with Tuning', precision_rfBest, recall_rfBest, f1_score_rfBest, auroc_rfBest, auprc_rfBest], \\\n",
    "        ['Gradient Boosting Trees', precision_gbt, recall_gbt, f1_score_gbt, auroc_gbt, auprc_gbt]]\n",
    "  \n",
    "# Create the pandas DataFrame\n",
    "results_df = pd.DataFrame(data, columns = ['Model', 'Precision',  'Recall', 'F1Score', 'AreaROC', 'AreaPRCurve'])\n",
    "  \n",
    "# print dataframe.\n",
    "results_df"
   ]
  },
  {
   "cell_type": "code",
   "execution_count": 96,
   "id": "45af5f8c",
   "metadata": {},
   "outputs": [
    {
     "data": {
      "image/png": "[encoded data removed]",
      "text/plain": [
       "<Figure size 576x432 with 1 Axes>"
      ]
     },
     "metadata": {
      "needs_background": "light"
     },
     "output_type": "display_data"
    }
   ],
   "source": [
    "# plot lines\n",
    "plt.figure(figsize=(8,6))\n",
    "plt.plot(results_df.Model, results_df.Precision, label = \"Precision\", linestyle=\"--\", linewidth=2.5, marker = 'o', markersize=10)\n",
    "plt.plot(results_df.Model, results_df.Recall, label = \"Recall\", linestyle=\"--\", linewidth=2.5, marker = 'o', markersize=10)\n",
    "plt.plot(results_df.Model, results_df['F1Score'], label = \"F1 Score\", linestyle='--', linewidth=2.5, marker = 'o', markersize=10)\n",
    "plt.plot(results_df.Model, results_df.AreaPRCurve, label = \"Area under PR Curve\", linestyle='--', linewidth=2.5, marker = 'o', markersize=10)\n",
    "plt.legend()\n",
    "plt.grid(axis = 'y')\n",
    "plt.show()"
   ]
  },
  {
   "cell_type": "code",
   "execution_count": null,
   "id": "b8ca5f48",
   "metadata": {},
   "outputs": [],
   "source": []
  },
  {
   "cell_type": "code",
   "execution_count": null,
   "id": "5cedb0a1",
   "metadata": {},
   "outputs": [],
   "source": []
  },
  {
   "cell_type": "code",
   "execution_count": null,
   "id": "0ffe8158",
   "metadata": {},
   "outputs": [],
   "source": []
  },
  {
   "cell_type": "code",
   "execution_count": null,
   "id": "9002222a",
   "metadata": {},
   "outputs": [],
   "source": []
  },
  {
   "cell_type": "code",
   "execution_count": null,
   "id": "0e452fba",
   "metadata": {},
   "outputs": [],
   "source": []
  },
  {
   "cell_type": "code",
   "execution_count": null,
   "id": "f214d371",
   "metadata": {},
   "outputs": [],
   "source": []
  },
  {
   "cell_type": "code",
   "execution_count": null,
   "id": "994fee57",
   "metadata": {},
   "outputs": [],
   "source": []
  },
  {
   "cell_type": "code",
   "execution_count": null,
   "id": "736a6668",
   "metadata": {},
   "outputs": [],
   "source": []
  },
  {
   "cell_type": "code",
   "execution_count": null,
   "id": "01a8c082",
   "metadata": {},
   "outputs": [],
   "source": []
  },
  {
   "cell_type": "code",
   "execution_count": null,
   "id": "51f13f96",
   "metadata": {},
   "outputs": [],
   "source": []
  },
  {
   "cell_type": "code",
   "execution_count": null,
   "id": "886941a8",
   "metadata": {},
   "outputs": [],
   "source": []
  },
  {
   "cell_type": "code",
   "execution_count": null,
   "id": "baceac4a",
   "metadata": {},
   "outputs": [],
   "source": []
  },
  {
   "cell_type": "code",
   "execution_count": null,
   "id": "7bb0fbe0",
   "metadata": {},
   "outputs": [],
   "source": []
  },
  {
   "cell_type": "code",
   "execution_count": null,
   "id": "a6624e50",
   "metadata": {},
   "outputs": [],
   "source": []
  },
  {
   "cell_type": "code",
   "execution_count": null,
   "id": "6d1e0caa",
   "metadata": {},
   "outputs": [],
   "source": []
  },
  {
   "cell_type": "code",
   "execution_count": null,
   "id": "985a23dd",
   "metadata": {},
   "outputs": [],
   "source": []
  },
  {
   "cell_type": "markdown",
   "id": "30475092",
   "metadata": {},
   "source": [
    "# Rough"
   ]
  },
  {
   "cell_type": "code",
   "execution_count": null,
   "id": "cd085bd7",
   "metadata": {},
   "outputs": [],
   "source": []
  },
  {
   "cell_type": "code",
   "execution_count": null,
   "id": "2422ab44",
   "metadata": {},
   "outputs": [],
   "source": []
  },
  {
   "cell_type": "code",
   "execution_count": null,
   "id": "f1dd5415",
   "metadata": {},
   "outputs": [],
   "source": []
  },
  {
   "cell_type": "code",
   "execution_count": null,
   "id": "c400db2c",
   "metadata": {},
   "outputs": [],
   "source": []
  },
  {
   "cell_type": "code",
   "execution_count": null,
   "id": "1bf53a6b",
   "metadata": {},
   "outputs": [],
   "source": []
  },
  {
   "cell_type": "code",
   "execution_count": null,
   "id": "3f30bedc",
   "metadata": {},
   "outputs": [],
   "source": []
  },
  {
   "cell_type": "code",
   "execution_count": null,
   "id": "ea1f898b",
   "metadata": {},
   "outputs": [],
   "source": []
  },
  {
   "cell_type": "code",
   "execution_count": null,
   "id": "5fa32d9e",
   "metadata": {},
   "outputs": [],
   "source": []
  },
  {
   "cell_type": "code",
   "execution_count": null,
   "id": "83fb5089",
   "metadata": {},
   "outputs": [],
   "source": []
  },
  {
   "cell_type": "code",
   "execution_count": null,
   "id": "79de891b",
   "metadata": {},
   "outputs": [],
   "source": []
  },
  {
   "cell_type": "code",
   "execution_count": null,
   "id": "6a07983f",
   "metadata": {},
   "outputs": [],
   "source": []
  },
  {
   "cell_type": "code",
   "execution_count": null,
   "id": "11d93bce",
   "metadata": {},
   "outputs": [],
   "source": []
  },
  {
   "cell_type": "code",
   "execution_count": null,
   "id": "6ab97aa5",
   "metadata": {},
   "outputs": [],
   "source": []
  },
  {
   "cell_type": "code",
   "execution_count": null,
   "id": "73e87dd2",
   "metadata": {},
   "outputs": [],
   "source": []
  },
  {
   "cell_type": "code",
   "execution_count": null,
   "id": "035b13db",
   "metadata": {},
   "outputs": [],
   "source": []
  },
  {
   "cell_type": "code",
   "execution_count": null,
   "id": "a132ccca",
   "metadata": {},
   "outputs": [],
   "source": []
  },
  {
   "cell_type": "code",
   "execution_count": null,
   "id": "e39f0797",
   "metadata": {},
   "outputs": [],
   "source": []
  },
  {
   "cell_type": "code",
   "execution_count": null,
   "id": "6a8ede77",
   "metadata": {},
   "outputs": [],
   "source": []
  },
  {
   "cell_type": "code",
   "execution_count": null,
   "id": "55b9b6bb",
   "metadata": {},
   "outputs": [],
   "source": []
  },
  {
   "cell_type": "code",
   "execution_count": null,
   "id": "b2a125f4",
   "metadata": {},
   "outputs": [],
   "source": [
    "from pyspark.ml.feature import Tokenizer\n",
    "tokenizer = Tokenizer().setInputCol('job').setOutputCol('words')\n",
    "tokenizer.transform(train_df_copy.select('job')).show()"
   ]
  },
  {
   "cell_type": "code",
   "execution_count": null,
   "id": "b76bcc77",
   "metadata": {},
   "outputs": [],
   "source": [
    "from pyspark.ml.feature import CountVectorizer\n",
    "count_vectorizer_estimator = CountVectorizer().setInputCol('words').setOutputCol('features')\n",
    "count_vectorizer_transformer = count_vectorizer_estimator.fit(tokenizer.transform(train_df_copy.select('job')))\n",
    "count_vectorizer_transformer.transform(tokenizer.transform(train_df_copy.select('job'))).show()"
   ]
  },
  {
   "cell_type": "code",
   "execution_count": null,
   "id": "9a1ce425",
   "metadata": {},
   "outputs": [],
   "source": [
    "count_vectorizer_transformer.vocabulary\n"
   ]
  },
  {
   "cell_type": "code",
   "execution_count": null,
   "id": "1d98f092",
   "metadata": {},
   "outputs": [],
   "source": []
  },
  {
   "cell_type": "code",
   "execution_count": null,
   "id": "e5169fe3",
   "metadata": {},
   "outputs": [],
   "source": []
  },
  {
   "cell_type": "code",
   "execution_count": 117,
   "id": "645aa25d",
   "metadata": {},
   "outputs": [
    {
     "data": {
      "text/plain": [
       "DataFrame[amt: double, city_pop: int, hour_of_transaction: int, distance: double, age: int, rolling_24h_avg_amt: double, rolling_1_week_avg_amt: double, rolling_1month_avg_amt: double, number_trans_24h: bigint, number_trans_specific_day: bigint, number_trans_month: bigint, weekly_avg_amt_over_3_months: double, category-vector: vector, gender-vector: vector, state-vector: vector, day_of_week-vector: vector]"
      ]
     },
     "execution_count": 117,
     "metadata": {},
     "output_type": "execute_result"
    }
   ],
   "source": [
    "df[cols]"
   ]
  },
  {
   "cell_type": "code",
   "execution_count": null,
   "id": "0eb0bab0",
   "metadata": {},
   "outputs": [],
   "source": []
  },
  {
   "cell_type": "code",
   "execution_count": null,
   "id": "ae988039",
   "metadata": {},
   "outputs": [],
   "source": []
  },
  {
   "cell_type": "code",
   "execution_count": null,
   "id": "f9052049",
   "metadata": {},
   "outputs": [],
   "source": []
  },
  {
   "cell_type": "code",
   "execution_count": 161,
   "id": "4e6b82d8",
   "metadata": {},
   "outputs": [],
   "source": [
    "train = df.sampleBy(\"is_fraud\", fractions={0: 0.7, 1: 0.7}, seed=10)\n",
    "\n",
    "  # Subtracting 'train' from original 'data' to get test set \n",
    "test = df.subtract(train)"
   ]
  },
  {
   "cell_type": "code",
   "execution_count": 162,
   "id": "190fa502",
   "metadata": {},
   "outputs": [
    {
     "name": "stdout",
     "output_type": "stream",
     "text": [
      "+--------+-------+\n",
      "|is_fraud|  count|\n",
      "+--------+-------+\n",
      "|       1|   6733|\n",
      "|       0|1290089|\n",
      "+--------+-------+\n",
      "\n"
     ]
    }
   ],
   "source": [
    "train.groupBy('is_fraud').count().show()"
   ]
  },
  {
   "cell_type": "code",
   "execution_count": 163,
   "id": "bd93fef2",
   "metadata": {},
   "outputs": [
    {
     "name": "stdout",
     "output_type": "stream",
     "text": [
      "+--------+------+\n",
      "|is_fraud| count|\n",
      "+--------+------+\n",
      "|       1|  2871|\n",
      "|       0|553168|\n",
      "+--------+------+\n",
      "\n"
     ]
    }
   ],
   "source": [
    "test.groupBy('is_fraud').count().show()"
   ]
  },
  {
   "cell_type": "code",
   "execution_count": 164,
   "id": "79386b53",
   "metadata": {},
   "outputs": [],
   "source": [
    "# Model training\n",
    "\n",
    "from pyspark.ml.classification import LogisticRegression\n",
    "from pyspark.ml import feature, classification\n",
    "\n",
    "lr = LogisticRegression(featuresCol='finalfeatures', labelCol='is_fraud')\n",
    "lr_model = lr.fit(train)\n",
    "#predictions = lr_model.transform(validate)"
   ]
  },
  {
   "cell_type": "code",
   "execution_count": 165,
   "id": "42c2144b",
   "metadata": {},
   "outputs": [
    {
     "name": "stdout",
     "output_type": "stream",
     "text": [
      "Precision:  0.7247769389155799\n",
      "recall:  0.367816091954023\n",
      "f1_score:  0.4879852125693161\n"
     ]
    }
   ],
   "source": [
    "from pyspark.sql.types import FloatType\n",
    "from pyspark.mllib.evaluation import MulticlassMetrics\n",
    "predictions = lr_model.transform(test)\n",
    "preds_and_labels = predictions.select(['prediction','is_fraud']).withColumn('is_fraud', func.col('is_fraud').cast(FloatType())).orderBy('prediction')\n",
    "\n",
    "\n",
    "\n",
    "#select only prediction and label columns\n",
    "preds_and_labels = preds_and_labels.select(['prediction','is_fraud'])\n",
    "\n",
    "\n",
    "\n",
    "confusion_matrix = MulticlassMetrics(preds_and_labels.rdd.map(tuple)).confusionMatrix().toArray()\n",
    "confusion_matrix\n",
    "precision = confusion_matrix[1,1]/np.add(confusion_matrix[0,1], confusion_matrix[1,1])\n",
    "print(\"Precision: \",precision)\n",
    "recall = confusion_matrix[1,1]/np.add(confusion_matrix[1,0], confusion_matrix[1,1])\n",
    "print(\"recall: \",recall)\n",
    "f1_score = 2*(precision*recall)/(precision+recall)\n",
    "print(\"f1_score: \",f1_score)"
   ]
  },
  {
   "cell_type": "code",
   "execution_count": null,
   "id": "edfb430f",
   "metadata": {},
   "outputs": [],
   "source": [
    "confusion_matrix"
   ]
  },
  {
   "cell_type": "code",
   "execution_count": null,
   "id": "dc6a2238",
   "metadata": {},
   "outputs": [],
   "source": [
    "import statistics\n",
    "\n",
    "predictionAndLabels = lr_model.transform(validate).select('is_','prediction')\n",
    "\n",
    "tp = predictionAndLabels.where((predictionAndLabels.type == 1) & (predictionAndLabels.prediction == 1)).count()\n",
    "tn = predictionAndLabels.where((predictionAndLabels.type == 0) & (predictionAndLabels.prediction == 0)).count()\n",
    "fp = predictionAndLabels.where((predictionAndLabels.type == 0) & (predictionAndLabels.prediction == 1)).count()\n",
    "fn = predictionAndLabels.where((predictionAndLabels.type == 1) & (predictionAndLabels.prediction == 0)).count()\n",
    "\n",
    "precision = tp/(tp+fp)\n",
    "recall = tp/(fn+tp)\n",
    "data = [precision, recall]\n",
    "f1_score = statistics.harmonic_mean(data)"
   ]
  },
  {
   "cell_type": "code",
   "execution_count": null,
   "id": "f963a744",
   "metadata": {},
   "outputs": [],
   "source": []
  },
  {
   "cell_type": "code",
   "execution_count": null,
   "id": "2cddb835",
   "metadata": {},
   "outputs": [],
   "source": []
  },
  {
   "cell_type": "code",
   "execution_count": 142,
   "id": "4c47bf11",
   "metadata": {},
   "outputs": [
    {
     "data": {
      "text/plain": [
       "['amt',\n",
       " 'city_pop',\n",
       " 'hour_of_transaction',\n",
       " 'distance',\n",
       " 'rolling_24h_avg_amt',\n",
       " 'rolling_1_week_avg_amt',\n",
       " 'rolling_1month_avg_amt',\n",
       " 'number_trans_24h',\n",
       " 'number_trans_specific_day',\n",
       " 'number_trans_month',\n",
       " 'weekly_avg_amt_over_3_months']"
      ]
     },
     "execution_count": 142,
     "metadata": {},
     "output_type": "execute_result"
    }
   ],
   "source": [
    "numericalColumns = [t[0] for t in preprocessed_data.dtypes if ((t[1] != 'string') & (t[0] != 'is_fraud'))]\n",
    "numericalColumns"
   ]
  },
  {
   "cell_type": "code",
   "execution_count": 141,
   "id": "02aa68f9",
   "metadata": {},
   "outputs": [
    {
     "data": {
      "text/plain": [
       "['category', 'gender', 'day_of_week', 'age_udf_cat']"
      ]
     },
     "execution_count": 141,
     "metadata": {},
     "output_type": "execute_result"
    }
   ],
   "source": [
    "# creating the stages for Pipeline\n",
    "\n",
    "from pyspark.ml.feature import OneHotEncoder, StringIndexer, VectorAssembler, StandardScaler\n",
    "from pyspark.ml.classification import LogisticRegression\n",
    "\n",
    "categoricalColumns = [t[0] for t in preprocessed_data.dtypes if t[1] == 'string']\n",
    "categoricalColumns"
   ]
  },
  {
   "cell_type": "code",
   "execution_count": 84,
   "id": "3dfef328",
   "metadata": {},
   "outputs": [],
   "source": [
    "stages = []\n",
    "\n",
    "for categoricalCol in categoricalColumns:\n",
    "    stringIndexer = StringIndexer(inputCol=categoricalCol, outputCol=categoricalCol + 'Index')\n",
    "    encoder = OneHotEncoder(inputCols=[stringIndexer.getOutputCol()], outputCols=[categoricalCol + 'classVec'])\n",
    "    stages += [stringIndexer, encoder]\n",
    "\n",
    "numericalColumns = [t[0] for t in combined_df_lr.dtypes if ((t[1] != 'string') & (t[0] != 'is_fraud'))]\n",
    "\n",
    "assemblerInputs = [c + \"classVec\" for c in categoricalColumns] + numericalColumns\n",
    "assembler = VectorAssembler(inputCols=assemblerInputs, outputCol=\"features\")\n",
    "stages += [assembler]\n",
    "\n",
    "# scaler = StandardScaler(inputCol=\"vectorized_features\", outputCol=\"features\")\n",
    "# stages += [scaler]"
   ]
  },
  {
   "cell_type": "code",
   "execution_count": 85,
   "id": "c5fa3784",
   "metadata": {},
   "outputs": [],
   "source": [
    "# creating the pipeline and transforming it to get the features.\n",
    "\n",
    "from pyspark.ml import Pipeline\n",
    "pipeline = Pipeline(stages = stages)\n",
    "pipelineModel = pipeline.fit(combined_df_lr)\n",
    "df = pipelineModel.transform(combined_df_lr)"
   ]
  },
  {
   "cell_type": "code",
   "execution_count": null,
   "id": "1d7d3722",
   "metadata": {},
   "outputs": [],
   "source": []
  },
  {
   "cell_type": "code",
   "execution_count": null,
   "id": "e0c16ced",
   "metadata": {},
   "outputs": [],
   "source": []
  },
  {
   "cell_type": "code",
   "execution_count": null,
   "id": "45c37898",
   "metadata": {},
   "outputs": [],
   "source": []
  },
  {
   "cell_type": "code",
   "execution_count": null,
   "id": "0a3ed24f",
   "metadata": {},
   "outputs": [],
   "source": []
  },
  {
   "cell_type": "code",
   "execution_count": 109,
   "id": "1a348df9",
   "metadata": {},
   "outputs": [],
   "source": [
    "from pyspark.ml import feature, classification\n",
    "\n",
    "rf_model = classification.RandomForestClassifier(featuresCol='features', labelCol='is_fraud').\\\n",
    "    fit(df_train)"
   ]
  },
  {
   "cell_type": "code",
   "execution_count": 110,
   "id": "a263df39",
   "metadata": {},
   "outputs": [
    {
     "data": {
      "text/plain": [
       "DataFrame[category: string, amt: double, gender: string, state: string, city_pop: int, is_fraud: int, day_of_week: string, hour_of_transaction: int, age: int, distance: double, rolling_24h_avg_amt: double, rolling_1_week_avg_amt: double, rolling_1month_avg_amt: double, number_trans_24h: bigint, number_trans_specific_day: bigint, number_trans_month: bigint, weekly_avg_amt_over_3_months: double, categoryIndex: double, categoryclassVec: vector, genderIndex: double, genderclassVec: vector, stateIndex: double, stateclassVec: vector, day_of_weekIndex: double, day_of_weekclassVec: vector, features: vector, rawPrediction: vector, probability: vector, prediction: double]"
      ]
     },
     "execution_count": 110,
     "metadata": {},
     "output_type": "execute_result"
    }
   ],
   "source": [
    "rf_model.transform(test)"
   ]
  },
  {
   "cell_type": "code",
   "execution_count": 117,
   "id": "bb2780f0",
   "metadata": {},
   "outputs": [
    {
     "data": {
      "text/plain": [
       "DataFrame[amt: double, city_pop: int, hour_of_transaction: int, distance: double, age: int, rolling_24h_avg_amt: double, rolling_1_week_avg_amt: double, rolling_1month_avg_amt: double, number_trans_24h: bigint, number_trans_specific_day: bigint, number_trans_month: bigint, weekly_avg_amt_over_3_months: double, category-vector: vector, gender-vector: vector, state-vector: vector, day_of_week-vector: vector]"
      ]
     },
     "execution_count": 117,
     "metadata": {},
     "output_type": "execute_result"
    }
   ],
   "source": [
    "df[cols]"
   ]
  },
  {
   "cell_type": "code",
   "execution_count": 119,
   "id": "a3d0cbe5",
   "metadata": {},
   "outputs": [],
   "source": [
    "feature_importance = pd.DataFrame(list(zip(cols, rf_model.featureImportances.toArray())),\n",
    "            columns = ['feature', 'importance']).sort_values('importance', ascending=False)"
   ]
  },
  {
   "cell_type": "code",
   "execution_count": 120,
   "id": "ba365595",
   "metadata": {},
   "outputs": [
    {
     "data": {
      "text/html": [
       "<div>\n",
       "<style scoped>\n",
       "    .dataframe tbody tr th:only-of-type {\n",
       "        vertical-align: middle;\n",
       "    }\n",
       "\n",
       "    .dataframe tbody tr th {\n",
       "        vertical-align: top;\n",
       "    }\n",
       "\n",
       "    .dataframe thead th {\n",
       "        text-align: right;\n",
       "    }\n",
       "</style>\n",
       "<table border=\"1\" class=\"dataframe\">\n",
       "  <thead>\n",
       "    <tr style=\"text-align: right;\">\n",
       "      <th></th>\n",
       "      <th>feature</th>\n",
       "      <th>importance</th>\n",
       "    </tr>\n",
       "  </thead>\n",
       "  <tbody>\n",
       "    <tr>\n",
       "      <th>5</th>\n",
       "      <td>rolling_24h_avg_amt</td>\n",
       "      <td>0.428874</td>\n",
       "    </tr>\n",
       "    <tr>\n",
       "      <th>6</th>\n",
       "      <td>rolling_1_week_avg_amt</td>\n",
       "      <td>0.221340</td>\n",
       "    </tr>\n",
       "    <tr>\n",
       "      <th>0</th>\n",
       "      <td>amt</td>\n",
       "      <td>0.108976</td>\n",
       "    </tr>\n",
       "    <tr>\n",
       "      <th>2</th>\n",
       "      <td>hour_of_transaction</td>\n",
       "      <td>0.084686</td>\n",
       "    </tr>\n",
       "    <tr>\n",
       "      <th>7</th>\n",
       "      <td>rolling_1month_avg_amt</td>\n",
       "      <td>0.067890</td>\n",
       "    </tr>\n",
       "    <tr>\n",
       "      <th>8</th>\n",
       "      <td>number_trans_24h</td>\n",
       "      <td>0.031970</td>\n",
       "    </tr>\n",
       "    <tr>\n",
       "      <th>10</th>\n",
       "      <td>number_trans_month</td>\n",
       "      <td>0.015911</td>\n",
       "    </tr>\n",
       "    <tr>\n",
       "      <th>11</th>\n",
       "      <td>weekly_avg_amt_over_3_months</td>\n",
       "      <td>0.010624</td>\n",
       "    </tr>\n",
       "    <tr>\n",
       "      <th>13</th>\n",
       "      <td>gender-vector</td>\n",
       "      <td>0.008395</td>\n",
       "    </tr>\n",
       "    <tr>\n",
       "      <th>9</th>\n",
       "      <td>number_trans_specific_day</td>\n",
       "      <td>0.004673</td>\n",
       "    </tr>\n",
       "    <tr>\n",
       "      <th>4</th>\n",
       "      <td>age</td>\n",
       "      <td>0.002162</td>\n",
       "    </tr>\n",
       "    <tr>\n",
       "      <th>14</th>\n",
       "      <td>state-vector</td>\n",
       "      <td>0.000684</td>\n",
       "    </tr>\n",
       "    <tr>\n",
       "      <th>3</th>\n",
       "      <td>distance</td>\n",
       "      <td>0.000298</td>\n",
       "    </tr>\n",
       "    <tr>\n",
       "      <th>12</th>\n",
       "      <td>category-vector</td>\n",
       "      <td>0.000140</td>\n",
       "    </tr>\n",
       "    <tr>\n",
       "      <th>1</th>\n",
       "      <td>city_pop</td>\n",
       "      <td>0.000136</td>\n",
       "    </tr>\n",
       "    <tr>\n",
       "      <th>15</th>\n",
       "      <td>day_of_week-vector</td>\n",
       "      <td>0.000000</td>\n",
       "    </tr>\n",
       "  </tbody>\n",
       "</table>\n",
       "</div>"
      ],
      "text/plain": [
       "                         feature  importance\n",
       "5            rolling_24h_avg_amt    0.428874\n",
       "6         rolling_1_week_avg_amt    0.221340\n",
       "0                            amt    0.108976\n",
       "2            hour_of_transaction    0.084686\n",
       "7         rolling_1month_avg_amt    0.067890\n",
       "8               number_trans_24h    0.031970\n",
       "10            number_trans_month    0.015911\n",
       "11  weekly_avg_amt_over_3_months    0.010624\n",
       "13                 gender-vector    0.008395\n",
       "9      number_trans_specific_day    0.004673\n",
       "4                            age    0.002162\n",
       "14                  state-vector    0.000684\n",
       "3                       distance    0.000298\n",
       "12               category-vector    0.000140\n",
       "1                       city_pop    0.000136\n",
       "15            day_of_week-vector    0.000000"
      ]
     },
     "execution_count": 120,
     "metadata": {},
     "output_type": "execute_result"
    }
   ],
   "source": [
    "feature_importance"
   ]
  },
  {
   "cell_type": "code",
   "execution_count": null,
   "id": "551001e0",
   "metadata": {},
   "outputs": [],
   "source": []
  },
  {
   "cell_type": "code",
   "execution_count": null,
   "id": "f753129c",
   "metadata": {},
   "outputs": [],
   "source": []
  },
  {
   "cell_type": "code",
   "execution_count": null,
   "id": "cdd3bd58",
   "metadata": {},
   "outputs": [],
   "source": []
  },
  {
   "cell_type": "code",
   "execution_count": null,
   "id": "73b14eee",
   "metadata": {},
   "outputs": [],
   "source": []
  },
  {
   "cell_type": "markdown",
   "id": "2ba59b6d",
   "metadata": {},
   "source": [
    "# EDA"
   ]
  },
  {
   "cell_type": "code",
   "execution_count": null,
   "id": "1681efcb",
   "metadata": {},
   "outputs": [],
   "source": [
    "# distribution of amount\n",
    "\n",
    "plt.figure(figsize=(10,5), dpi=100)\n",
    "\n",
    "sns.histplot(data = train_df_pandas, x = 'amt', hue = 'amt')\n",
    "plt.show()"
   ]
  },
  {
   "cell_type": "code",
   "execution_count": null,
   "id": "f3bde72c",
   "metadata": {},
   "outputs": [],
   "source": []
  },
  {
   "cell_type": "code",
   "execution_count": null,
   "id": "e77a88b5",
   "metadata": {},
   "outputs": [],
   "source": [
    "# Category\n",
    "\n",
    "plt.figure(figsize=(10,5), dpi=100)\n",
    "\n",
    "chart = sns.countplot(data = train_df_pandas, x = 'category'\\\n",
    "                      , order = train_df_pandas['category'].value_counts().index)\n",
    "chart.set_xticklabels(chart.get_xticklabels(), rotation = 45, horizontalalignment = 'right')\n",
    "plt.show()"
   ]
  },
  {
   "cell_type": "code",
   "execution_count": null,
   "id": "0c1be3a2",
   "metadata": {},
   "outputs": [],
   "source": []
  },
  {
   "cell_type": "code",
   "execution_count": null,
   "id": "c3888f7b",
   "metadata": {},
   "outputs": [],
   "source": []
  },
  {
   "cell_type": "code",
   "execution_count": null,
   "id": "176f7503",
   "metadata": {},
   "outputs": [],
   "source": []
  },
  {
   "cell_type": "code",
   "execution_count": null,
   "id": "1487938e",
   "metadata": {},
   "outputs": [],
   "source": []
  },
  {
   "cell_type": "code",
   "execution_count": null,
   "id": "78e3f0ea",
   "metadata": {},
   "outputs": [],
   "source": []
  },
  {
   "cell_type": "code",
   "execution_count": null,
   "id": "a0a9f1b6",
   "metadata": {},
   "outputs": [],
   "source": []
  },
  {
   "cell_type": "code",
   "execution_count": null,
   "id": "f7005df9",
   "metadata": {},
   "outputs": [],
   "source": []
  },
  {
   "cell_type": "code",
   "execution_count": null,
   "id": "ba392957",
   "metadata": {},
   "outputs": [],
   "source": []
  }
 ],
 "metadata": {
  "kernelspec": {
   "display_name": "Python 3",
   "language": "python",
   "name": "python3"
  },
  "language_info": {
   "codemirror_mode": {
    "name": "ipython",
    "version": 3
   },
   "file_extension": ".py",
   "mimetype": "text/x-python",
   "name": "python",
   "nbconvert_exporter": "python",
   "pygments_lexer": "ipython3",
   "version": "3.8.8"
  },
  "latex_envs": {
   "LaTeX_envs_menu_present": true,
   "autoclose": false,
   "autocomplete": true,
   "bibliofile": "biblio.bib",
   "cite_by": "apalike",
   "current_citInitial": 1,
   "eqLabelWithNumbers": true,
   "eqNumInitial": 1,
   "hotkeys": {
    "equation": "Ctrl-E",
    "itemize": "Ctrl-I"
   },
   "labels_anchors": false,
   "latex_user_defs": false,
   "report_style_numbering": false,
   "user_envs_cfg": false
  },
  "toc": {
   "base_numbering": 1,
   "nav_menu": {},
   "number_sections": true,
   "sideBar": true,
   "skip_h1_title": false,
   "title_cell": "Table of Contents",
   "title_sidebar": "Contents",
   "toc_cell": false,
   "toc_position": {},
   "toc_section_display": true,
   "toc_window_display": false
  }
 },
 "nbformat": 4,
 "nbformat_minor": 5
}
